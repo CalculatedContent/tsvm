{
 "metadata": {
  "name": "",
  "signature": "sha256:e2c7a13eee9859a18b2d223efdd99398136368fc454440c6a42f0d70e60d1d05"
 },
 "nbformat": 3,
 "nbformat_minor": 0,
 "worksheets": [
  {
   "cells": [
    {
     "cell_type": "code",
     "collapsed": false,
     "input": [
      "import sys\n",
      "from time import time\n",
      "from pprint import pprint\n",
      "\n",
      "import numpy as np\n",
      "import scipy\n",
      "import scipy.sparse\n",
      "import scipy.sparse as sp\n",
      "import joblib\n",
      "\n",
      "import io\n",
      "import os.path\n",
      "\n",
      "import sklearn\n",
      "import sklearn.svm\n",
      "import sklearn.datasets\n",
      "import sklearn.cross_validation\n",
      "\n",
      "import sklearn.datasets\n",
      "import sklearn.cross_validation\n",
      "\n",
      "from sklearn.datasets import fetch_20newsgroups\n",
      "from sklearn.semi_supervised import LabelPropagation\n",
      "from sklearn.semi_supervised import LabelSpreading\n",
      "from sklearn.datasets import fetch_20newsgroups\n",
      "from sklearn.feature_extraction.text import TfidfVectorizer\n",
      "\n",
      "from sklearn.externals.six import u, b\n",
      "\n",
      "import warnings\n",
      "warnings.filterwarnings('ignore')\n",
      "\n",
      "%pylab inline"
     ],
     "language": "python",
     "metadata": {},
     "outputs": [
      {
       "output_type": "stream",
       "stream": "stdout",
       "text": [
        "Populating the interactive namespace from numpy and matplotlib\n"
       ]
      }
     ],
     "prompt_number": 1
    },
    {
     "cell_type": "code",
     "collapsed": false,
     "input": [
      "dataset = fetch_20newsgroups(data_home=\".\")\n"
     ],
     "language": "python",
     "metadata": {},
     "outputs": [],
     "prompt_number": 2
    },
    {
     "cell_type": "code",
     "collapsed": false,
     "input": [
      "group_names = dataset.target_names\n",
      "group_counts = [(dataset.target==idx).sum() for idx in range(len(group_names))]\n",
      "print group_counts\n",
      "half_docs_group_index = np.where((np.cumsum(group_counts) > 5600))[0][0]\n",
      "print half_docs_group_index\n",
      "y = (dataset.target > half_docs_group_index).astype(int)*2-1\n",
      "print y.sum()\n",
      "instance_ids = np.arange(y.size)\n",
      "print instance_ids"
     ],
     "language": "python",
     "metadata": {},
     "outputs": [
      {
       "output_type": "stream",
       "stream": "stdout",
       "text": [
        "[480, 584, 591, 590, 578, 593, 585, 594, 598, 597, 600, 595, 591, 594, 593, 599, 546, 564, 465, 377]\n",
        "9\n",
        "-266\n",
        "[    0     1     2 ..., 11311 11312 11313]\n"
       ]
      }
     ],
     "prompt_number": 3
    },
    {
     "cell_type": "code",
     "collapsed": false,
     "input": [
      "vectorizer = TfidfVectorizer(max_df=0.5, min_df=4)\n",
      "X = vectorizer.fit_transform(dataset.data)\n"
     ],
     "language": "python",
     "metadata": {},
     "outputs": [],
     "prompt_number": 4
    },
    {
     "cell_type": "code",
     "collapsed": false,
     "input": [
      "print X.shape"
     ],
     "language": "python",
     "metadata": {},
     "outputs": [
      {
       "output_type": "stream",
       "stream": "stdout",
       "text": [
        "(11314, 30792)\n"
       ]
      }
     ],
     "prompt_number": 5
    },
    {
     "cell_type": "code",
     "collapsed": false,
     "input": [
      "from collections import Counter\n",
      "Counter(y)"
     ],
     "language": "python",
     "metadata": {},
     "outputs": [
      {
       "metadata": {},
       "output_type": "pyout",
       "prompt_number": 6,
       "text": [
        "Counter({-1: 5790, 1: 5524})"
       ]
      }
     ],
     "prompt_number": 6
    },
    {
     "cell_type": "code",
     "collapsed": false,
     "input": [
      "svm = sklearn.svm.LinearSVC(penalty='l2', C=10, dual=False)\n",
      "svm.fit(X, y)\n"
     ],
     "language": "python",
     "metadata": {},
     "outputs": [
      {
       "metadata": {},
       "output_type": "pyout",
       "prompt_number": 7,
       "text": [
        "LinearSVC(C=10, class_weight=None, dual=False, fit_intercept=True,\n",
        "     intercept_scaling=1, loss='l2', multi_class='ovr', penalty='l2',\n",
        "     random_state=None, tol=0.0001, verbose=0)"
       ]
      }
     ],
     "prompt_number": 7
    },
    {
     "cell_type": "code",
     "collapsed": false,
     "input": [
      "reconstruction_accuracy = sklearn.metrics.accuracy_score(y, svm.predict(X))\n",
      "print reconstruction_accuracy\n",
      "ncv = 10\n",
      "print sklearn.cross_validation.cross_val_score(svm, X, y, cv=10).sum()/ncv\n"
     ],
     "language": "python",
     "metadata": {},
     "outputs": [
      {
       "output_type": "stream",
       "stream": "stdout",
       "text": [
        "0.99991161393\n",
        "0.959962102395"
       ]
      },
      {
       "output_type": "stream",
       "stream": "stdout",
       "text": [
        "\n"
       ]
      }
     ],
     "prompt_number": 8
    },
    {
     "cell_type": "code",
     "collapsed": false,
     "input": [
      "sklearn.datasets.dump_svmlight_file(X,y,'liblinear.all.in',zero_based=False)"
     ],
     "language": "python",
     "metadata": {},
     "outputs": [],
     "prompt_number": 9
    },
    {
     "cell_type": "code",
     "collapsed": false,
     "input": [
      "def print_svmlight_infiles(L, y_l, U, y_u, test_size):\n",
      "\n",
      "    A = scipy.sparse.vstack((L,U))\n",
      "    unk_l = y_u*0   \n",
      "    a_l = np.hstack((y_l, unk_l))\n",
      "    print A.shape, a_l.shape \n",
      "    training_file = 'svmlight.train.%.2f'%test_size\n",
      "    sklearn.datasets.dump_svmlight_file(A,a_l,training_file,zero_based=False)\n",
      "    \n",
      "    testL_file = 'svmlight.testL.%.2f'%test_size\n",
      "    sklearn.datasets.dump_svmlight_file(L,y_l,testL_file,zero_based=False)\n",
      "    \n",
      "    testU_file = 'svmlight.testU.%.2f'%test_size\n",
      "    sklearn.datasets.dump_svmlight_file(U,y_u,testU_file,zero_based=False)\n"
     ],
     "language": "python",
     "metadata": {},
     "outputs": [],
     "prompt_number": 10
    },
    {
     "cell_type": "code",
     "collapsed": false,
     "input": [
      "def dump_svmlin(X, y, fX, fy):\n",
      "    X_value_pattern = u(\"%d:%.16g\")\n",
      "    X_line_pattern = u(\" %s\\n\")\n",
      "    y_line_pattern = u(\"%d\")\n",
      "    \n",
      "    is_sp = int(hasattr(X, \"tocsr\"))\n",
      "\n",
      "    for i in range(X.shape[0]):\n",
      "        if is_sp:\n",
      "            span = slice(X.indptr[i], X.indptr[i + 1])\n",
      "            row = zip(X.indices[span], X.data[span])\n",
      "        else:\n",
      "            nz = X[i] != 0\n",
      "            row = zip(np.where(nz)[0], X[i, nz])\n",
      "\n",
      "        s = \" \".join(X_value_pattern % (j + 1, x) for j, x in row)\n",
      "        fX.write((X_line_pattern % s).encode('ascii'))\n",
      "        fy.write((y_line_pattern % y[i]).encode('ascii'))\n"
     ],
     "language": "python",
     "metadata": {},
     "outputs": [],
     "prompt_number": 11
    },
    {
     "cell_type": "code",
     "collapsed": false,
     "input": [
      "def print_svmlin_infiles(L, y_l, U, y_u, test_size):\n",
      "    print \"print_svmlin_infiles...\"\n",
      "    A = scipy.sparse.vstack((L,U))\n",
      "    unk_l = y_u*0\n",
      "    a_l = np.hstack((y_l, unk_l))\n",
      "    print A.shape, a_l.shape \n",
      "    \n",
      "    examples_file = open('svmlin.train.examples.%.2f'%test_size, \"wb\")\n",
      "    labels_file = open('svmlin.train.labels.%.2f'%test_size, \"wb\")\n",
      "    dump_svmlin(A, a_l, examples_file, labels_file)\n",
      "    \n",
      "    examples_file = open('svmlin.testL.examples.%.2f'%test_size, \"wb\")\n",
      "    labels_file = open('svmlin.testL.labels.%.2f'%test_size, \"wb\")\n",
      "    dump_svmlin(L, y_l, examples_file, labels_file)\n",
      "    \n",
      "    examples_file = open('svmlin.testU.examples.%.2f'%test_size, \"wb\")\n",
      "    labels_file = open('svmlin.testU.labels.%.2f'%test_size, \"wb\")\n",
      "    dump_svmlin(U, y_u, examples_file, labels_file)\n"
     ],
     "language": "python",
     "metadata": {},
     "outputs": [],
     "prompt_number": 14
    },
    {
     "cell_type": "code",
     "collapsed": false,
     "input": [
      "def print_universvm_infiles(L, y_l, U, y_u, test_size):\n",
      "    A = scipy.sparse.vstack((L,U))\n",
      "    unk_l = y_u*0 - 3\n",
      "    a_l = np.hstack((y_l, unk_l))\n",
      "    print A.shape, a_l.shape \n",
      "    training_file = 'universvm.train.%.2f'%test_size\n",
      "    sklearn.datasets.dump_svmlight_file(A,a_l,training_file,zero_based=False)\n",
      "    \n",
      "    testL_file = 'universvm.testL.%.2f'%test_size\n",
      "    sklearn.datasets.dump_svmlight_file(L,y_l,testL_file,zero_based=False)\n",
      "    \n",
      "    testU_file = 'universvm.testU.%.2f'%test_size\n",
      "    sklearn.datasets.dump_svmlight_file(U,y_u,testU_file,zero_based=False)"
     ],
     "language": "python",
     "metadata": {},
     "outputs": [],
     "prompt_number": 15
    },
    {
     "cell_type": "code",
     "collapsed": false,
     "input": [
      "test_size = 0.05\n",
      "splits = sklearn.cross_validation.StratifiedShuffleSplit(y, n_iter=1, test_size=test_size)\n",
      "labeled_indices, unlabeled_indices = splits.__iter__().next()\n",
      "L = X[labeled_indices]\n",
      "L_ids = instance_ids[labeled_indices]\n",
      "\n",
      "U = X[unlabeled_indices]\n",
      "U_ids = instance_ids[unlabeled_indices]\n",
      "\n",
      "y_l = y[labeled_indices]\n",
      "y_u = y[unlabeled_indices]\n",
      "\n",
      "print X.shape, L.shape, U.shape\n",
      "print_svmlight_infiles(L, y_l, U, y_u, test_size)\n",
      "print_universvm_infiles(L, y_l, U, y_u, test_size)\n",
      "print_svmlin_infiles(L, y_l, U, y_u, test_size)\n"
     ],
     "language": "python",
     "metadata": {},
     "outputs": [
      {
       "output_type": "stream",
       "stream": "stdout",
       "text": [
        "(11314, 30792) (10748, 30792) (566, 30792)\n",
        "(11314, 30792) (11314,)\n",
        "(11314, 30792)"
       ]
      },
      {
       "output_type": "stream",
       "stream": "stdout",
       "text": [
        " (11314,)\n",
        "print_svmlin_infiles..."
       ]
      },
      {
       "output_type": "stream",
       "stream": "stdout",
       "text": [
        "\n",
        "(11314, 30792) (11314,)\n"
       ]
      }
     ],
     "prompt_number": 16
    },
    {
     "cell_type": "code",
     "collapsed": false,
     "input": [],
     "language": "python",
     "metadata": {},
     "outputs": [],
     "prompt_number": 1
    },
    {
     "cell_type": "code",
     "collapsed": false,
     "input": [],
     "language": "python",
     "metadata": {},
     "outputs": [],
     "prompt_number": 1
    },
    {
     "cell_type": "code",
     "collapsed": false,
     "input": [],
     "language": "python",
     "metadata": {},
     "outputs": [],
     "prompt_number": 1
    },
    {
     "cell_type": "code",
     "collapsed": false,
     "input": [],
     "language": "python",
     "metadata": {},
     "outputs": []
    }
   ],
   "metadata": {}
  }
 ]
}