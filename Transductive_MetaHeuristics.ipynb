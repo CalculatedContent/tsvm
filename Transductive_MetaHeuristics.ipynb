{
 "metadata": {
  "name": "",
  "signature": "sha256:203b7c7f2426cfe237420999e862d679d38b796347bec2f942b73fce685221b4"
 },
 "nbformat": 3,
 "nbformat_minor": 0,
 "worksheets": [
  {
   "cells": [
    {
     "cell_type": "code",
     "collapsed": false,
     "input": [
      "import numpy as np\n",
      "import sklearn\n",
      "from sklearn.svm import SVC\n",
      "\n",
      "\n",
      "from scipy import linalg\n",
      "from scipy import sparse\n",
      "from scipy.sparse import linalg as sp_linalg\n",
      "from sklearn.datasets import load_svmlight_file\n",
      "\n",
      "from sklearn.utils.extmath import safe_sparse_dot"
     ],
     "language": "python",
     "metadata": {},
     "outputs": [],
     "prompt_number": 3
    },
    {
     "cell_type": "code",
     "collapsed": false,
     "input": [
      "# classifier with/ instance weights\n",
      "# Linear LibSVM \n",
      "def classify(X, y, weights, alpha=1.0): \n",
      "    classifier = SVC(C=alpha,kernel='linear')\n",
      "    classifier.fit(X, y, weights)\n",
      "    return classifier"
     ],
     "language": "python",
     "metadata": {},
     "outputs": [],
     "prompt_number": 5
    },
    {
     "cell_type": "code",
     "collapsed": false,
     "input": [
      "# TODO; check that the algo actually switches the labels properly\n",
      "# need some kind of python unit tests\n",
      "#\n",
      "# multi-switch algo \n",
      "#  switch [R (+)]/[1-R (-)] labels \n",
      "#  switch S of them?\n",
      "#\n",
      "#  does this make sense?\n",
      "def switch_labels(Apos_ids, Apos_scores, Aneg_ids, Aneg_scores, R, S) :\n",
      "    switched_pos_ids = np.empty([])\n",
      "    switched_neg_ids = np.empty([])\n",
      "\n",
      "    \n",
      "    return switched_pos_ids, switched_neg_ids"
     ],
     "language": "python",
     "metadata": {},
     "outputs": [],
     "prompt_number": 3
    },
    {
     "cell_type": "code",
     "collapsed": false,
     "input": [
      "#\n",
      "# function which decreases if we guess a better labeling\n",
      "#\n",
      "def objective_function(guess_labels):\n",
      "    # can we just evaluate the function without retraining\n",
      "    #  I think so\n",
      "    #  do we need to check?\n",
      "    #\n",
      "    return 0"
     ],
     "language": "python",
     "metadata": {},
     "outputs": []
    },
    {
     "cell_type": "code",
     "collapsed": false,
     "input": [
      "def converged():\n",
      "    return 0"
     ],
     "language": "python",
     "metadata": {},
     "outputs": []
    },
    {
     "cell_type": "code",
     "collapsed": false,
     "input": [
      "# run the incremental self training algo\n",
      "#  \n",
      "def transduce(X, known_labels, L_ids, U_ids, R=0.5, U_reg=1.0, W_reg=0.001, alpha = 1.0, num_steps=1000, num_switches = 1000):\n",
      "  \n",
      "    L = X[L_ids]  \n",
      "    U = X[U_ids]\n",
      "    \n",
      "    numL = L.shape[0]\n",
      "    numU = U.shape[0]\n",
      "    numAll = numL+numU\n",
      "    \n",
      "    # I think this is fixed..we never expand this\n",
      "    # y_L = known_labels\n",
      "   \n",
      "    # regularization constants\n",
      "    U_final = U_reg\n",
      "    W  = W_reg\n",
      "        \n",
      "    # run initial classifier\n",
      "    #  train classifier on initial labeled (L) instances\n",
      "    #  predict labels for unlabeled (U) \n",
      "    weights0 = np.ones(numL)\n",
      "    classifier0 = classify(L, known_labels, weights0, alpha): \n",
      "\n",
      "    # guess the initial weights on U\n",
      "    #  what happens to L ?\n",
      "    guess_labels =  classifier0.predict(U)  \n",
      "\n",
      "    # set initial labels and weights\n",
      "    # same as y_all \n",
      "    all_labels = np.zeros(numAll)\n",
      "    all_labels[L_ids]=known_labels\n",
      "    \n",
      "    all_weights =  weights0 = np.ones(numAll)\n",
      "    all_weights[L_ids] = W / float(numL)\n",
      "    \n",
      "    # for istep in xrange(num_steps):\n",
      "\n",
      "    U_incr = U_final/float(num_steps)\n",
      "    U_norm = 1.0 / float(numU)  \n",
      "    for istep, U_val in enumerate(np.arange(U_incr,U_final,U_incr)):\n",
      "        \n",
      "        # train a new classifier with\n",
      "        #   combined known_labels and guess labels\n",
      "        #   scaled weights\n",
      "        all_labels[U_ids]=guess_labels[U_ids]\n",
      "        all_weights[U_ids] = U_step*U_norm \n",
      "        classifier = classify(X, all_labels, all_weights, alpha)\n",
      "        \n",
      "    \n",
      "        # find the Active set of mis-classified exammples      \n",
      "        #  or strong violations\n",
      "        #  y*(wx+b) < 1\n",
      "\n",
      "        # before we classified, what did we think\n",
      "        Upos_ids = np.where(guess_labels > 0)  \n",
      "        Uneg_ids = np.where(guess_labels < 0)  \n",
      "\n",
      "        \n",
      "        # score = prediction = wx+b  seems I hope\n",
      "        U_predictions = classifier.predict(U)\n",
      "    \n",
      "        #TODO:  check to see if this actually makes sense\n",
      "        #  is this actually the active set\n",
      "        \n",
      "        # Apos_ids_sorted are ids into Apos_scores\n",
      "        #  somehow this seems wrong ... ? but im not sure why\n",
      "        #  the predictions are only valid if the |score| > 1 \n",
      "        Upos_scores  = U_predictions[Upos_ids]        \n",
      "        Apos_ids = np.where(Upos_scores < 1.0)\n",
      "        Apos_scores = Upos_scores[Apos_ids]\n",
      "        Apos_ids_sorted = np.argsort(Apos_scores)\n",
      "        \n",
      "        Uneg_scores  = U_predictions[Uneg_ids]\n",
      "        Aneg_ids = np.where(Uneg_scores > -1.0)\n",
      "        Aneg_scores = Upos_scores[Aneg_ids]\n",
      "        Aneg_ids_sorted = np.argsort(Aneg_scores)\n",
      "\n",
      "        \n",
      "\n",
      "        # switch the most violating constraints\n",
      "        # sort ids by score / predictions .. maybe not so easy?\n",
      "        #  switch top R/(1-R) pairs \n",
      "    \n",
      "        # select R Apos_ids_sorted and (1-R) Aneg_ids_sorted\n",
      "        #  \n",
      "        switched_pos_ids, switched_neg_ids = switch_labels(Apos_ids_sorted, Apos_scores, Aneg_ids_sorted, Aneg_scores, R, S)\n",
      "        \n",
      "        # form a new set of label guesses based on current predictions            \n",
      "        # guess_labels = U_predictions \n",
      "        \n",
      "        \n",
      "        # converged ?\n",
      "        \n",
      "        \n",
      "        # repeat\n"
     ],
     "language": "python",
     "metadata": {},
     "outputs": [
      {
       "ename": "SyntaxError",
       "evalue": "invalid syntax (<ipython-input-2-1585ef432c77>, line 15)",
       "output_type": "pyerr",
       "traceback": [
        "\u001b[0;36m  File \u001b[0;32m\"<ipython-input-2-1585ef432c77>\"\u001b[0;36m, line \u001b[0;32m15\u001b[0m\n\u001b[0;31m    labeled_only_clf = classify(X_labeled, known_labels, sample_weights, alpha=1.0):\u001b[0m\n\u001b[0m                                                                                   ^\u001b[0m\n\u001b[0;31mSyntaxError\u001b[0m\u001b[0;31m:\u001b[0m invalid syntax\n"
       ]
      }
     ],
     "prompt_number": 2
    },
    {
     "cell_type": "code",
     "collapsed": false,
     "input": [
      "# check that the svm works \n",
      "L, y_L = sklearn.datasets.load_svmlight_file('qn-s3vm-2014-paper/svmlight.testL.90')\n",
      "wieghts_0 = np.ones(L.shape[0])\n",
      "model= classify(L,y_L,wieghts_0)\n",
      "np.mean(y_L==model.predict(L))"
     ],
     "language": "python",
     "metadata": {},
     "outputs": [
      {
       "metadata": {},
       "output_type": "pyout",
       "prompt_number": 7,
       "text": [
        "1.0"
       ]
      }
     ],
     "prompt_number": 7
    },
    {
     "cell_type": "code",
     "collapsed": false,
     "input": [
      "# step 1\n",
      "# we label the unlabelled data\n",
      "%time U, y_U = sklearn.datasets.load_svmlight_file('qn-s3vm-2014-paper/svmlight.testU.90')"
     ],
     "language": "python",
     "metadata": {},
     "outputs": [
      {
       "output_type": "stream",
       "stream": "stdout",
       "text": [
        "CPU times: user 2.63 s, sys: 47.5 ms, total: 2.68 s\n",
        "Wall time: 2.69 s\n"
       ]
      }
     ],
     "prompt_number": 9
    },
    {
     "cell_type": "code",
     "collapsed": false,
     "input": [
      "type(L), type(U)"
     ],
     "language": "python",
     "metadata": {},
     "outputs": [
      {
       "metadata": {},
       "output_type": "pyout",
       "prompt_number": 10,
       "text": [
        "(scipy.sparse.csr.csr_matrix, scipy.sparse.csr.csr_matrix)"
       ]
      }
     ],
     "prompt_number": 10
    },
    {
     "cell_type": "code",
     "collapsed": false,
     "input": [
      "L.shape, U.shape"
     ],
     "language": "python",
     "metadata": {},
     "outputs": [
      {
       "metadata": {},
       "output_type": "pyout",
       "prompt_number": 11,
       "text": [
        "((90, 20926), (36064, 20958))"
       ]
      }
     ],
     "prompt_number": 11
    },
    {
     "cell_type": "code",
     "collapsed": false,
     "input": [
      "Lpad = np.zeros([L.shape[0],U.shape[1]-L.shape[1]])\n",
      "print L.shape, Lpad.shape\n",
      "Ll= sparse.hstack([L,Lpad])\n",
      "print Ll.shape"
     ],
     "language": "python",
     "metadata": {},
     "outputs": [
      {
       "output_type": "stream",
       "stream": "stdout",
       "text": [
        "(90, 20926) (90, 32)\n",
        "(90, 20958)\n"
       ]
      }
     ],
     "prompt_number": 14
    },
    {
     "cell_type": "code",
     "collapsed": false,
     "input": [
      "X = sparse.vstack([Ll,U])\n",
      "X.shape"
     ],
     "language": "python",
     "metadata": {},
     "outputs": [
      {
       "metadata": {},
       "output_type": "pyout",
       "prompt_number": 69,
       "text": [
        "(36154, 20958)"
       ]
      }
     ],
     "prompt_number": 69
    },
    {
     "cell_type": "code",
     "collapsed": false,
     "input": [
      "L_ids = np.arange(Ll.shape[0])\n",
      "U_ids =  + np.arange(Ll.shape[0],Ll.shape[0]+U.shape[0])"
     ],
     "language": "python",
     "metadata": {},
     "outputs": [],
     "prompt_number": 16
    },
    {
     "cell_type": "code",
     "collapsed": false,
     "input": [
      "known_labels = y_L"
     ],
     "language": "python",
     "metadata": {},
     "outputs": [],
     "prompt_number": 73
    },
    {
     "cell_type": "code",
     "collapsed": false,
     "input": [
      "transduce(X, known_labels, L_ids, U_ids)"
     ],
     "language": "python",
     "metadata": {},
     "outputs": []
    }
   ],
   "metadata": {}
  }
 ]
}