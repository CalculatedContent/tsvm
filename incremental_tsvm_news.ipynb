{
 "metadata": {
  "name": "",
  "signature": "sha256:14c19a0dad418d9b65ce244e6be4311fc0eef3bc9eb6262b009e7f46a7579a48"
 },
 "nbformat": 3,
 "nbformat_minor": 0,
 "worksheets": [
  {
   "cells": [
    {
     "cell_type": "code",
     "collapsed": false,
     "input": [
      "import pandas as pd\n",
      "import numpy as np\n",
      "\n",
      "import scipy\n",
      "import scipy.sparse\n",
      "\n",
      "import sklearn\n",
      "import sklearn.svm\n",
      "import sklearn.datasets\n",
      "import sklearn.cross_validation\n",
      "\n",
      "import warnings\n",
      "warnings.filterwarnings('ignore')"
     ],
     "language": "python",
     "metadata": {},
     "outputs": [],
     "prompt_number": 1
    },
    {
     "cell_type": "code",
     "collapsed": false,
     "input": [
      "X, y = sklearn.datasets.load_svmlight_file('data/news20.binary')\n",
      "\n",
      "instance_ids = np.arange(y.size)"
     ],
     "language": "python",
     "metadata": {},
     "outputs": [],
     "prompt_number": 2
    },
    {
     "cell_type": "code",
     "collapsed": false,
     "input": [
      "splits = sklearn.cross_validation.StratifiedShuffleSplit(y, n_iter=1, test_size=0.95)\n",
      "labeled_indices, unlabeled_indices = splits.__iter__().next()"
     ],
     "language": "python",
     "metadata": {},
     "outputs": [],
     "prompt_number": 3
    },
    {
     "cell_type": "code",
     "collapsed": false,
     "input": [
      "L = X[labeled_indices]\n",
      "L_ids = instance_ids[labeled_indices]\n",
      "\n",
      "U = X[unlabeled_indices]\n",
      "U_ids = instance_ids[unlabeled_indices]\n",
      "\n",
      "y_l = y[labeled_indices]\n",
      "y_u = y[unlabeled_indices]"
     ],
     "language": "python",
     "metadata": {},
     "outputs": [],
     "prompt_number": 4
    },
    {
     "cell_type": "code",
     "collapsed": false,
     "input": [
      "def increment_svm(svm, L_ids, baseline_accuracy):\n",
      "    \n",
      "    L = X[L_ids]\n",
      "    y_l = y[L_ids]\n",
      "    \n",
      "    U_ids = np.array(list((set(instance_ids) - set(L_ids))))\n",
      "    U = X[U_ids]\n",
      "    y_u = y[U_ids]\n",
      "\n",
      "    ordered_indices = np.argsort(svm.decision_function(U))\n",
      "    smallest_indices = ordered_indices[:500]\n",
      "    smallest_ids = U_ids[smallest_indices]\n",
      "    largest_indices = ordered_indices[-500:]\n",
      "    largest_ids = U_ids[largest_indices]\n",
      "    \n",
      "    high_confidence_unlabeled = scipy.sparse.vstack([U[smallest_indices], U[largest_indices]])\n",
      "    high_confidence_ids = np.concatenate([smallest_ids, largest_ids])\n",
      "    high_confidence_predicted_labels = svm.predict(high_confidence_unlabeled)\n",
      "    high_confidence_true_labels = y[high_confidence_ids]\n",
      "    \n",
      "    splits = sklearn.cross_validation.StratifiedShuffleSplit(high_confidence_predicted_labels, n_iter=2, test_size=0.9)\n",
      "\n",
      "    saved_L_primes = []\n",
      "    saved_L_prime_ids = []\n",
      "    saved_cv_accuracies = []\n",
      "\n",
      "    for augment_indices, test_indices in splits:\n",
      "\n",
      "        augment = high_confidence_unlabeled[augment_indices]\n",
      "        test = high_confidence_unlabeled[test_indices]\n",
      "\n",
      "        augment_ids = high_confidence_ids[augment_indices]\n",
      "        test_ids = high_confidence_ids[test_indices]\n",
      "\n",
      "        augment_labels = high_confidence_predicted_labels[augment_indices] \n",
      "        test_labels = high_confidence_predicted_labels[test_indices]\n",
      "\n",
      "        L_prime = scipy.sparse.vstack([L, augment])\n",
      "\n",
      "        y_l_prime = np.concatenate([y_l, augment_labels])\n",
      "        L_prime_ids = np.concatenate([L_ids, augment_ids])\n",
      "\n",
      "        saved_L_primes.append(L_prime)\n",
      "        saved_L_prime_ids.append(L_prime_ids)    \n",
      "\n",
      "        svm_prime = sklearn.svm.LinearSVC(penalty='l2', C=10, dual=False)\n",
      "        accuracy = sklearn.cross_validation.cross_val_score(svm_prime, L_prime, y_l_prime, cv=5, n_jobs=7).mean()\n",
      "\n",
      "        saved_cv_accuracies.append(accuracy)\n",
      "            \n",
      "    best_index = np.argmax(saved_cv_accuracies)\n",
      "    best_L_prime_ids = saved_L_prime_ids[best_index]\n",
      "    best_accuracy = saved_cv_accuracies[best_index]\n",
      "    \n",
      "    return best_L_prime_ids, best_accuracy"
     ],
     "language": "python",
     "metadata": {},
     "outputs": [],
     "prompt_number": 5
    },
    {
     "cell_type": "code",
     "collapsed": false,
     "input": [
      "svm = sklearn.svm.LinearSVC(penalty='l2', C=10, dual=False)\n",
      "svm.fit(L, y_l)\n",
      "cv_accuracy = sklearn.cross_validation.cross_val_score(svm, L, y_l, cv=5, n_jobs=7).mean()\n",
      "\n",
      "accuracies = [cv_accuracy]\n",
      "\n",
      "iteration = 0\n",
      "number_labeled = L.shape[0]\n",
      "prediction_accuracy = sklearn.metrics.accuracy_score(y_u, svm.predict(U))\n",
      "\n",
      "print \"%d\\t%d\\t%f\\t%f\" %(iteration, number_labeled, cv_accuracy, prediction_accuracy)\n",
      "\n",
      "\n",
      "while True:\n",
      "    iteration += 1\n",
      "\n",
      "    L_ids, cv_accuracy = increment_svm(svm, L_ids, cv_accuracy)\n",
      "    \n",
      "    L = X[L_ids]\n",
      "    y_l = y[L_ids]\n",
      "    \n",
      "    U_ids = np.array(list((set(instance_ids) - set(L_ids))))\n",
      "    U = X[U_ids]\n",
      "    y_u = y[U_ids]\n",
      "    \n",
      "    svm = sklearn.svm.LinearSVC(penalty='l2', C=10, dual=False)\n",
      "    svm.fit(L, y_l)\n",
      "    \n",
      "    number_labeled = L.shape[0]\n",
      "    \n",
      "    prediction_accuracy = sklearn.metrics.accuracy_score(y_u, svm.predict(U))\n",
      "    print \"%d\\t%d\\t%f\\t%f\" %(iteration, number_labeled, cv_accuracy, prediction_accuracy)\n"
     ],
     "language": "python",
     "metadata": {},
     "outputs": [
      {
       "output_type": "stream",
       "stream": "stdout",
       "text": [
        "0\t999\t0.880869\t0.880981\n",
        "L shape"
       ]
      },
      {
       "output_type": "stream",
       "stream": "stdout",
       "text": [
        " (999, 1355191)\n",
        "augment shape (100,)\n",
        "lprime shape (1099, 1355191)\n"
       ]
      },
      {
       "output_type": "stream",
       "stream": "stdout",
       "text": [
        "L shape (999, 1355191)\n",
        "augment shape (100,)\n",
        "lprime shape (1099, 1355191)\n"
       ]
      },
      {
       "output_type": "stream",
       "stream": "stdout",
       "text": [
        "1\t1099\t0.899004\t0.880246\n",
        "L shape"
       ]
      },
      {
       "output_type": "stream",
       "stream": "stdout",
       "text": [
        " (1099, 1355191)\n",
        "augment shape (100,)\n",
        "lprime shape (1199, 1355191)\n"
       ]
      },
      {
       "output_type": "stream",
       "stream": "stdout",
       "text": [
        "L shape (1099, 1355191)\n",
        "augment shape (100,)\n",
        "lprime shape (1199, 1355191)\n"
       ]
      },
      {
       "output_type": "stream",
       "stream": "stdout",
       "text": [
        "2\t1199\t0.905743\t0.879662\n",
        "L shape"
       ]
      },
      {
       "output_type": "stream",
       "stream": "stdout",
       "text": [
        " (1199, 1355191)\n",
        "augment shape (100,)\n",
        "lprime shape (1299, 1355191)\n"
       ]
      },
      {
       "output_type": "stream",
       "stream": "stdout",
       "text": [
        "L shape (1199, 1355191)\n",
        "augment shape (100,)\n",
        "lprime shape (1299, 1355191)\n"
       ]
      },
      {
       "output_type": "stream",
       "stream": "stdout",
       "text": [
        "3\t1299\t0.916840\t0.878965\n",
        "L shape"
       ]
      },
      {
       "output_type": "stream",
       "stream": "stdout",
       "text": [
        " (1299, 1355191)\n",
        "augment shape (100,)\n",
        "lprime shape (1399, 1355191)\n"
       ]
      },
      {
       "output_type": "stream",
       "stream": "stdout",
       "text": [
        "L shape (1299, 1355191)\n",
        "augment shape (100,)\n",
        "lprime shape (1399, 1355191)\n"
       ]
      },
      {
       "output_type": "stream",
       "stream": "stdout",
       "text": [
        "4\t1399\t0.916382\t0.878583\n",
        "L shape"
       ]
      },
      {
       "output_type": "stream",
       "stream": "stdout",
       "text": [
        " (1399, 1355191)\n",
        "augment shape (100,)\n",
        "lprime shape (1499, 1355191)\n"
       ]
      },
      {
       "output_type": "stream",
       "stream": "stdout",
       "text": [
        "L shape (1399, 1355191)\n",
        "augment shape (100,)\n",
        "lprime shape (1499, 1355191)\n"
       ]
      },
      {
       "output_type": "stream",
       "stream": "stdout",
       "text": [
        "5\t1499\t0.921273\t0.878034\n",
        "L shape"
       ]
      },
      {
       "output_type": "stream",
       "stream": "stdout",
       "text": [
        " (1499, 1355191)\n",
        "augment shape (100,)\n",
        "lprime shape (1599, 1355191)\n"
       ]
      },
      {
       "output_type": "stream",
       "stream": "stdout",
       "text": [
        "L shape (1499, 1355191)\n",
        "augment shape (100,)\n",
        "lprime shape (1599, 1355191)\n"
       ]
      },
      {
       "output_type": "stream",
       "stream": "stdout",
       "text": [
        "6\t1599\t0.931836\t0.877208\n",
        "L shape"
       ]
      },
      {
       "output_type": "stream",
       "stream": "stdout",
       "text": [
        " (1599, 1355191)\n",
        "augment shape (100,)\n",
        "lprime shape (1699, 1355191)\n"
       ]
      },
      {
       "output_type": "stream",
       "stream": "stdout",
       "text": [
        "L shape (1599, 1355191)\n",
        "augment shape (100,)\n",
        "lprime shape (1699, 1355191)\n"
       ]
      },
      {
       "output_type": "stream",
       "stream": "stdout",
       "text": [
        "7\t1699\t0.935252\t0.876646\n",
        "L shape"
       ]
      },
      {
       "output_type": "stream",
       "stream": "stdout",
       "text": [
        " (1699, 1355191)\n",
        "augment shape (100,)\n",
        "lprime shape (1799, 1355191)\n"
       ]
      },
      {
       "output_type": "stream",
       "stream": "stdout",
       "text": [
        "L shape (1699, 1355191)\n",
        "augment shape (100,)\n",
        "lprime shape (1799, 1355191)\n"
       ]
      },
      {
       "output_type": "stream",
       "stream": "stdout",
       "text": [
        "8\t1799\t0.941082\t0.875859\n",
        "L shape"
       ]
      },
      {
       "output_type": "stream",
       "stream": "stdout",
       "text": [
        " (1799, 1355191)\n",
        "augment shape (100,)\n",
        "lprime shape (1899, 1355191)\n"
       ]
      },
      {
       "output_type": "stream",
       "stream": "stdout",
       "text": [
        "L shape (1799, 1355191)\n",
        "augment shape (100,)\n",
        "lprime shape (1899, 1355191)\n"
       ]
      },
      {
       "output_type": "stream",
       "stream": "stdout",
       "text": [
        "9\t1899\t0.945753\t0.875062\n",
        "L shape"
       ]
      },
      {
       "output_type": "stream",
       "stream": "stdout",
       "text": [
        " (1899, 1355191)\n",
        "augment shape (100,)\n",
        "lprime shape (1999, 1355191)\n"
       ]
      },
      {
       "output_type": "stream",
       "stream": "stdout",
       "text": [
        "L shape (1899, 1355191)\n",
        "augment shape (100,)\n",
        "lprime shape (1999, 1355191)\n"
       ]
      },
      {
       "output_type": "stream",
       "stream": "stdout",
       "text": [
        "10\t1999\t0.944970\t0.874257\n",
        "L shape"
       ]
      },
      {
       "output_type": "stream",
       "stream": "stdout",
       "text": [
        " (1999, 1355191)\n",
        "augment shape (100,)\n",
        "lprime shape (2099, 1355191)\n"
       ]
      },
      {
       "output_type": "stream",
       "stream": "stdout",
       "text": [
        "L shape (1999, 1355191)\n",
        "augment shape (100,)\n",
        "lprime shape (2099, 1355191)\n"
       ]
      },
      {
       "output_type": "stream",
       "stream": "stdout",
       "text": [
        "11\t2099\t0.950453\t0.873387\n",
        "L shape"
       ]
      },
      {
       "output_type": "stream",
       "stream": "stdout",
       "text": [
        " (2099, 1355191)\n",
        "augment shape (100,)\n",
        "lprime shape (2199, 1355191)\n"
       ]
      },
      {
       "output_type": "stream",
       "stream": "stdout",
       "text": [
        "L shape (2099, 1355191)\n",
        "augment shape (100,)\n",
        "lprime shape (2199, 1355191)\n"
       ]
      },
      {
       "output_type": "stream",
       "stream": "stdout",
       "text": [
        "12\t2199\t0.950889\t0.873743\n",
        "L shape"
       ]
      },
      {
       "output_type": "stream",
       "stream": "stdout",
       "text": [
        " (2199, 1355191)\n",
        "augment shape (100,)\n",
        "lprime shape (2299, 1355191)\n"
       ]
      },
      {
       "output_type": "stream",
       "stream": "stdout",
       "text": [
        "L shape (2199, 1355191)\n",
        "augment shape (100,)\n",
        "lprime shape (2299, 1355191)\n"
       ]
      },
      {
       "output_type": "stream",
       "stream": "stdout",
       "text": [
        "13\t2299\t0.953893\t0.873312\n",
        "L shape"
       ]
      },
      {
       "output_type": "stream",
       "stream": "stdout",
       "text": [
        " (2299, 1355191)\n",
        "augment shape (100,)\n",
        "lprime shape (2399, 1355191)\n"
       ]
      },
      {
       "output_type": "stream",
       "stream": "stdout",
       "text": [
        "L shape (2299, 1355191)\n",
        "augment shape (100,)\n",
        "lprime shape (2399, 1355191)\n"
       ]
      },
      {
       "output_type": "stream",
       "stream": "stdout",
       "text": [
        "14\t2399\t0.952899\t0.872706\n",
        "L shape"
       ]
      },
      {
       "output_type": "stream",
       "stream": "stdout",
       "text": [
        " (2399, 1355191)\n",
        "augment shape (100,)\n",
        "lprime shape (2499, 1355191)\n"
       ]
      },
      {
       "output_type": "stream",
       "stream": "stdout",
       "text": [
        "L shape (2399, 1355191)\n",
        "augment shape (100,)\n",
        "lprime shape (2499, 1355191)\n"
       ]
      },
      {
       "output_type": "stream",
       "stream": "stdout",
       "text": [
        "15\t2499\t0.959980\t0.871692\n",
        "L shape"
       ]
      },
      {
       "output_type": "stream",
       "stream": "stdout",
       "text": [
        " (2499, 1355191)\n",
        "augment shape (100,)\n",
        "lprime shape (2599, 1355191)\n"
       ]
      },
      {
       "output_type": "stream",
       "stream": "stdout",
       "text": [
        "L shape (2499, 1355191)\n",
        "augment shape (100,)\n",
        "lprime shape (2599, 1355191)\n"
       ]
      },
      {
       "output_type": "stream",
       "stream": "stdout",
       "text": [
        "16\t2599\t0.959599\t0.871874\n",
        "L shape"
       ]
      },
      {
       "output_type": "stream",
       "stream": "stdout",
       "text": [
        " (2599, 1355191)\n",
        "augment shape (100,)\n",
        "lprime shape (2699, 1355191)\n"
       ]
      },
      {
       "output_type": "stream",
       "stream": "stdout",
       "text": [
        "L shape (2599, 1355191)\n",
        "augment shape (100,)\n",
        "lprime shape (2699, 1355191)\n"
       ]
      },
      {
       "output_type": "stream",
       "stream": "stdout",
       "text": [
        "17\t2699\t0.963695\t0.870960\n",
        "L shape"
       ]
      },
      {
       "output_type": "stream",
       "stream": "stdout",
       "text": [
        " (2699, 1355191)\n",
        "augment shape (100,)\n",
        "lprime shape (2799, 1355191)\n"
       ]
      },
      {
       "output_type": "stream",
       "stream": "stdout",
       "text": [
        "L shape (2699, 1355191)\n",
        "augment shape (100,)\n",
        "lprime shape (2799, 1355191)\n"
       ]
      },
      {
       "output_type": "stream",
       "stream": "stdout",
       "text": [
        "18\t2799\t0.964628\t0.870094\n",
        "L shape"
       ]
      },
      {
       "output_type": "stream",
       "stream": "stdout",
       "text": [
        " (2799, 1355191)\n",
        "augment shape (100,)\n",
        "lprime shape (2899, 1355191)\n"
       ]
      },
      {
       "output_type": "stream",
       "stream": "stdout",
       "text": [
        "L shape (2799, 1355191)\n",
        "augment shape (100,)\n",
        "lprime shape (2899, 1355191)\n"
       ]
      },
      {
       "output_type": "stream",
       "stream": "stdout",
       "text": [
        "19\t2899\t0.966189\t0.870153\n",
        "L shape"
       ]
      },
      {
       "output_type": "stream",
       "stream": "stdout",
       "text": [
        " (2899, 1355191)\n",
        "augment shape (100,)\n",
        "lprime shape (2999, 1355191)\n"
       ]
      },
      {
       "output_type": "stream",
       "stream": "stdout",
       "text": [
        "L shape (2899, 1355191)\n",
        "augment shape (100,)\n",
        "lprime shape (2999, 1355191)\n"
       ]
      },
      {
       "output_type": "stream",
       "stream": "stdout",
       "text": [
        "20\t2999\t0.966986\t0.869153\n",
        "L shape"
       ]
      },
      {
       "output_type": "stream",
       "stream": "stdout",
       "text": [
        " (2999, 1355191)\n",
        "augment shape (100,)\n",
        "lprime shape (3099, 1355191)\n"
       ]
      },
      {
       "output_type": "stream",
       "stream": "stdout",
       "text": [
        "L shape (2999, 1355191)\n",
        "augment shape (100,)\n",
        "lprime shape (3099, 1355191)\n"
       ]
      }
     ]
    },
    {
     "cell_type": "code",
     "collapsed": false,
     "input": [],
     "language": "python",
     "metadata": {},
     "outputs": []
    }
   ],
   "metadata": {}
  }
 ]
}