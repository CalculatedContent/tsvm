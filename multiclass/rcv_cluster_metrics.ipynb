{
 "metadata": {
  "name": "",
  "signature": "sha256:e111b41e10384b81e73075c6418ab41ab62758016bcbfd04fa01ff024c193e52"
 },
 "nbformat": 3,
 "nbformat_minor": 0,
 "worksheets": [
  {
   "cells": [
    {
     "cell_type": "code",
     "collapsed": false,
     "input": [
      "# code to generate sample multiclass 1-vs-all data sets\n",
      "# data set is very small and needs to be replaced with rcv\n",
      "#\n",
      "#  this example will use the 20 newsgroup set\n",
      "#\n",
      "# see: http://scikit-learn.org/stable/auto_examples/document_classification_20newsgroups.html#example-document-classification-20newsgroups-py\n",
      "# \n",
      "import sys\n",
      "from time import time\n",
      "from pprint import pprint\n",
      "\n",
      "import numpy as np\n",
      "import scipy\n",
      "import scipy.sparse as sp\n",
      "import joblib\n",
      "\n",
      "import io\n",
      "import os.path\n",
      "\n",
      "import sklearn\n",
      "import sklearn.svm\n",
      "import sklearn.datasets\n",
      "import sklearn.metrics\n",
      "import sklearn.cross_validation\n",
      "\n",
      "\n",
      "from sklearn.externals.six import u, b\n",
      "\n",
      "from sklearn.datasets import fetch_20newsgroups\n",
      "from sklearn.feature_extraction.text import TfidfVectorizer\n",
      "from sklearn.feature_extraction.text import HashingVectorizer\n",
      "from sklearn.svm import LinearSVC\n",
      "from sklearn.feature_selection import SelectKBest, chi2\n",
      "\n",
      "import warnings\n",
      "warnings.filterwarnings('ignore')\n",
      "\n",
      "%pylab inline"
     ],
     "language": "python",
     "metadata": {},
     "outputs": [
      {
       "output_type": "stream",
       "stream": "stdout",
       "text": [
        "Populating the interactive namespace from numpy and matplotlib\n"
       ]
      }
     ],
     "prompt_number": 2
    },
    {
     "cell_type": "code",
     "collapsed": false,
     "input": [
      "# Read RCV train and test Datasets using SvmLight Reader\n",
      "#\n",
      "# usable categories in test\n",
      "# 1031 20\n",
      "# 1134 15\n",
      "# 1929 4\n",
      "# 3649 2\n",
      "#\n",
      "#  select N_l random examples from all M other categories \n",
      "#    parameterize by l=20,15,4,2 and M=3, 5, 10, all\n",
      "#\n",
      "X_train, y_train = sklearn.datasets.load_svmlight_file('rcv1_train.multiclass')"
     ],
     "language": "python",
     "metadata": {},
     "outputs": [],
     "prompt_number": 3
    },
    {
     "cell_type": "code",
     "collapsed": false,
     "input": [
      "X_train.shape, y_train.shape"
     ],
     "language": "python",
     "metadata": {},
     "outputs": [
      {
       "metadata": {},
       "output_type": "pyout",
       "prompt_number": 4,
       "text": [
        "((15564, 47236), (15564,))"
       ]
      }
     ],
     "prompt_number": 4
    },
    {
     "cell_type": "code",
     "collapsed": false,
     "input": [
      "# Read RCV tests data\n",
      "#  \n",
      "# create sample data\n",
      "# 39197 20\n",
      "# 36409 15\n",
      "# 64048 4\n",
      "# 126777 2\n",
      "\n",
      "# select balanced (50/50) set from l=l=20,15,4,2 and M=3, 5, 10, all\n",
      "#  same code as above\n",
      "X_test, y_test = sklearn.datasets.load_svmlight_file('rcv1_test.multiclass')"
     ],
     "language": "python",
     "metadata": {},
     "outputs": [],
     "prompt_number": 5
    },
    {
     "cell_type": "code",
     "collapsed": false,
     "input": [
      "X_test.shape, y_test.shape"
     ],
     "language": "python",
     "metadata": {},
     "outputs": [
      {
       "metadata": {},
       "output_type": "pyout",
       "prompt_number": 6,
       "text": [
        "((518571, 47236), (518571,))"
       ]
      }
     ],
     "prompt_number": 6
    },
    {
     "cell_type": "code",
     "collapsed": false,
     "input": [
      "l = 20\n",
      "Lnum = 10\n",
      "\n",
      "Lone = np.where(y_train==l)[0]\n",
      "Lother = np.where(y_train!=l)[0]\n",
      "\n",
      "Lpos = numpy.random.choice(Lone, size=Lnum)\n",
      "Lneg = numpy.random.choice(Lother, size=Lnum)\n",
      "\n",
      "Tpos = np.where(y_test==l)[0]\n",
      "Tother = np.where(y_test!=l)[0]\n",
      "\n",
      "Unum = Tpos.shape[0]/2\n",
      "#Unum = 5000\n",
      "Upos = Tpos[0:Unum]\n",
      "Uneg = numpy.random.choice(Tother, size=Unum)\n",
      "\n",
      "print Tpos.shape, Tother.shape\n",
      "\n",
      "HOstart = Tpos.shape[0]-Unum\n",
      "HOpos = Tpos[HOstart:]\n",
      "HOneg = numpy.random.choice(numpy.setxor1d(Tother,Uneg), size=Unum)\n",
      "\n",
      "# not sure why HO > U, but ok for now\n",
      "print Lpos.shape, Upos.shape, HOpos.shape\n",
      "print Lneg.shape, Uneg.shape, HOneg.shape\n",
      "\n",
      "# check that T and HO dont overlap\n",
      "print np.intersect1d(Upos,HOpos)\n",
      "print np.intersect1d(Uneg,HOneg)\n",
      "\n",
      "\n"
     ],
     "language": "python",
     "metadata": {},
     "outputs": [
      {
       "output_type": "stream",
       "stream": "stdout",
       "text": [
        "(39197,) (479374,)\n",
        "(10,) (19598,) (19598,)\n",
        "(10,) (19598,) (19598,)\n",
        "[]\n",
        "[]\n"
       ]
      }
     ],
     "prompt_number": 7
    },
    {
     "cell_type": "code",
     "collapsed": false,
     "input": [
      "Lids = np.union1d(Lpos,Lneg)\n",
      "Uids = np.union1d(Upos,Uneg)\n",
      "HOids =  np.union1d(HOpos,HOneg)\n",
      "print Lids.shape, Uids.shape, HOids.shape"
     ],
     "language": "python",
     "metadata": {},
     "outputs": [
      {
       "output_type": "stream",
       "stream": "stdout",
       "text": [
        "(20,) (38786,) (38777,)\n"
       ]
      }
     ],
     "prompt_number": 8
    },
    {
     "cell_type": "code",
     "collapsed": false,
     "input": [
      "# why does this fail?\n",
      "\n",
      "L = X_train[Lids]\n",
      "l_labels = y_train[Lids]\n",
      "\n",
      "U = X_test[Uids]\n",
      "u_labels = y_test[Uids]\n",
      "\n",
      "HO = X_test[HOids]\n",
      "ho_labels = y_test[HOids]\n",
      "\n"
     ],
     "language": "python",
     "metadata": {},
     "outputs": [],
     "prompt_number": 9
    },
    {
     "cell_type": "code",
     "collapsed": false,
     "input": [
      "#TODO:  simplify\n",
      "def binary_labels(labels,one=20):\n",
      "    b_l = np.zeros_like(labels)\n",
      "    one_ids = np.where(labels==one) \n",
      "    for i in one_ids:\n",
      "        b_l[i] = 2\n",
      "\n",
      "    return  (b_l -1)\n",
      "    "
     ],
     "language": "python",
     "metadata": {},
     "outputs": [],
     "prompt_number": 10
    },
    {
     "cell_type": "code",
     "collapsed": false,
     "input": [
      "y_l = binary_labels(l_labels,one=l)\n",
      "y_u = binary_labels(u_labels,one=l)\n",
      "y_ho = binary_labels(ho_labels,one=l)\n"
     ],
     "language": "python",
     "metadata": {},
     "outputs": [],
     "prompt_number": 11
    },
    {
     "cell_type": "code",
     "collapsed": false,
     "input": [
      "#fix labels...they are wrong...need -1, +1, 0\n",
      "\n",
      "svm_small = sklearn.svm.LinearSVC(C=10,fit_intercept=False)\n",
      "svm_small.fit(L, y_l)\n",
      "\n",
      "y_p = svm_small.predict(L)\n",
      "score = svm_small.score(L,y_l)\n",
      "\n",
      "print \"baseline accuracy for \",Unum,\" l=\",L.shape[0] \n",
      "\n",
      "\n",
      "print \" L  accuracy \",(score)*100.0\n",
      "\n",
      "y_p = svm_small.predict(U)\n",
      "score = svm_small.score(U,y_u)\n",
      "\n",
      "print \" U  accuracy \",(score)*100.0\n",
      "\n",
      "y_p = svm_small.predict(HO)\n",
      "score = svm_small.score(HO,y_ho)\n",
      "\n",
      "print \" HO accuracy \",(score)*100.0\n",
      "# accuracy is already very very high!!!\n",
      "# can we reduce  ?  is this real?"
     ],
     "language": "python",
     "metadata": {},
     "outputs": [
      {
       "output_type": "stream",
       "stream": "stdout",
       "text": [
        "baseline accuracy for  19598  l= 20\n",
        " L  accuracy  100.0\n",
        " U  accuracy  77.6929820038\n",
        " HO accuracy  77.476339067\n"
       ]
      }
     ],
     "prompt_number": 12
    },
    {
     "cell_type": "code",
     "collapsed": false,
     "input": [
      "# of course, I need the same set to get the soft labels and compute the cross entropy\n",
      "# can i look at AUC ROC on L ?\n",
      "# I want cross entropy of soft labels as weights \n",
      "#  weighted distance will also do\n",
      "#  and other measures\n",
      "\n",
      "# essentially I need to guess R, and I do this using the weights we find\n"
     ],
     "language": "python",
     "metadata": {},
     "outputs": [],
     "prompt_number": 13
    },
    {
     "cell_type": "code",
     "collapsed": false,
     "input": [
      "#TODO:  redo this...i accidently deleted the older notebook\n",
      "# start checking things in every day\n",
      "# redo this carefully , read in cluster metric\n",
      "# this time...run the eval and read back in the results\n",
      "\n",
      "# stabilize this!\n",
      "# universvm and cccp tests also now\n",
      "# run qn-s3vm\n",
      "\n",
      "# also try to fix svmlin,accuracy and old method\n",
      "# clearly setting R is the issue\n",
      "\n",
      "# set up matlab...do any of these methods work\n",
      "# read papers...what is the classificaiton func\n",
      "\n",
      "# github now\n",
      "\n",
      "# make svmlin lib to read \n"
     ],
     "language": "python",
     "metadata": {},
     "outputs": []
    }
   ],
   "metadata": {}
  }
 ]
}