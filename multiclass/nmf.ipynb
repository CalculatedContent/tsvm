{
 "metadata": {
  "name": "",
  "signature": "sha256:77ac77f6b80958365fe1efcc158123927969e7a37632fcc3f3b49385ca7bed70"
 },
 "nbformat": 3,
 "nbformat_minor": 0,
 "worksheets": [
  {
   "cells": [
    {
     "cell_type": "code",
     "collapsed": false,
     "input": [
      "import sys\n",
      "from time import time\n",
      "from pprint import pprint\n",
      "\n",
      "import numpy as np\n",
      "import scipy\n",
      "import scipy.sparse as sp\n",
      "import joblib\n",
      "\n",
      "import io\n",
      "import os.path\n",
      "\n",
      "import sklearn\n",
      "import sklearn.svm\n",
      "import sklearn.datasets\n",
      "import sklearn.metrics\n",
      "import sklearn.cross_validation\n",
      "\n",
      "\n",
      "from sklearn.externals.six import u, b\n",
      "\n",
      "from sklearn.datasets import fetch_20newsgroups\n",
      "from sklearn.feature_extraction.text import TfidfVectorizer\n",
      "from sklearn.feature_extraction.text import HashingVectorizer\n",
      "from sklearn.svm import LinearSVC\n",
      "from sklearn.feature_selection import SelectKBest, chi2\n",
      "\n",
      "from svmlight_loader import (load_svmlight_file, load_svmlight_files,dump_svmlight_file)\n",
      "from sklearn.datasets import load_svmlight_file as sk_load_svmlight_file\n",
      "\n",
      "from sklearn import decomposition\n",
      "from scikits.learn.decomposition import NMF\n",
      "\n",
      "import warnings\n",
      "warnings.filterwarnings('ignore')\n",
      "\n",
      "%pylab inline"
     ],
     "language": "python",
     "metadata": {},
     "outputs": [
      {
       "output_type": "stream",
       "stream": "stdout",
       "text": [
        "Populating the interactive namespace from numpy and matplotlib\n"
       ]
      }
     ],
     "prompt_number": 1
    },
    {
     "cell_type": "code",
     "collapsed": false,
     "input": [
      "X_train, y_train, X_test, y_test = load_svmlight_files([\"svm.train.in\", \"svm.test.in\"],dtype=np.float32)\n",
      "\n",
      "print X_train.shape\n",
      "print y_train.shape\n",
      "print X_test.shape\n",
      "print X_test.shape\n",
      "\n",
      "print X_train.dtype\n",
      "#print X_train[:1]\n"
     ],
     "language": "python",
     "metadata": {},
     "outputs": [
      {
       "output_type": "stream",
       "stream": "stdout",
       "text": [
        "(20, 47205)\n",
        "(20,)\n",
        "(38842, 47205)\n",
        "(38842, 47205)\n",
        "float32\n"
       ]
      }
     ],
     "prompt_number": 2
    },
    {
     "cell_type": "code",
     "collapsed": false,
     "input": [
      "X = np.zeros(X_train.shape)\n",
      "for x, y in np.ndindex(X_train.shape):\n",
      "    X[x,y]=X_train[x,y]"
     ],
     "language": "python",
     "metadata": {},
     "outputs": [],
     "prompt_number": 3
    },
    {
     "cell_type": "code",
     "collapsed": false,
     "input": [
      "print X.shape\n",
      "print X[:1]\n",
      "print np.max(X)\n",
      "print np.min(X)"
     ],
     "language": "python",
     "metadata": {},
     "outputs": [
      {
       "output_type": "stream",
       "stream": "stdout",
       "text": [
        "(20, 47205)\n",
        "[[ 0.  0.  0. ...,  0.  0.  0.]]\n",
        "0.607490479946\n",
        "0.0\n"
       ]
      }
     ],
     "prompt_number": 4
    },
    {
     "cell_type": "code",
     "collapsed": false,
     "input": [
      "model = NMF(n_components=10,init='nndsvd')\n",
      "model.fit(X)\n",
      "print model.components_\n",
      "print model.reconstruction_err_"
     ],
     "language": "python",
     "metadata": {},
     "outputs": []
    },
    {
     "cell_type": "code",
     "collapsed": false,
     "input": [
      "print model.components_.shape"
     ],
     "language": "python",
     "metadata": {},
     "outputs": [
      {
       "output_type": "stream",
       "stream": "stdout",
       "text": [
        "(10, 47205)\n"
       ]
      }
     ],
     "prompt_number": 18
    },
    {
     "cell_type": "code",
     "collapsed": false,
     "input": [
      "print model."
     ],
     "language": "python",
     "metadata": {},
     "outputs": []
    }
   ],
   "metadata": {}
  }
 ]
}