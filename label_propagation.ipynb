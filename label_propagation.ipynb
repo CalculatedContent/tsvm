{
 "metadata": {
  "name": "",
  "signature": "sha256:7c60c13c9ed4ffb99a2666874ad2a5a5b2df2e2669cc6d6a6751b4268fade395"
 },
 "nbformat": 3,
 "nbformat_minor": 0,
 "worksheets": [
  {
   "cells": [
    {
     "cell_type": "code",
     "collapsed": false,
     "input": [
      "from sklearn.semi_supervised import LabelPropagation\n",
      "from sklearn.semi_supervised import LabelSpreading\n",
      "\n",
      "from sklearn.datasets import fetch_20newsgroups\n",
      "from pprint import pprint\n",
      "import scipy\n",
      "import scipy.sparse\n",
      "\n",
      "import joblib\n",
      "\n",
      "import sklearn\n",
      "import sklearn.datasets\n",
      "import sklearn.cross_validation\n",
      "\n",
      "import sys\n",
      "from time import time\n",
      "\n",
      "import numpy as np\n",
      "%pylab inline"
     ],
     "language": "python",
     "metadata": {},
     "outputs": [
      {
       "output_type": "stream",
       "stream": "stdout",
       "text": [
        "Populating the interactive namespace from numpy and matplotlib\n"
       ]
      }
     ],
     "prompt_number": 80
    },
    {
     "cell_type": "code",
     "collapsed": false,
     "input": [
      "X, y = sklearn.datasets.load_svmlight_file('data/news20.binary')"
     ],
     "language": "python",
     "metadata": {},
     "outputs": [],
     "prompt_number": 81
    },
    {
     "cell_type": "code",
     "collapsed": false,
     "input": [
      "instance_ids = np.arange(y.size)"
     ],
     "language": "python",
     "metadata": {},
     "outputs": [],
     "prompt_number": 82
    },
    {
     "cell_type": "code",
     "collapsed": false,
     "input": [
      "def test_label_prop(X, y, labeled_indices, unlabeled_indices):\n",
      "    L = X[labeled_indices]\n",
      "    L_ids = instance_ids[labeled_indices]\n",
      "\n",
      "    U = X[unlabeled_indices]\n",
      "    U_ids = instance_ids[unlabeled_indices]\n",
      "\n",
      "    y_l = y[labeled_indices]\n",
      "    y_u = y[unlabeled_indices]\n",
      "\n",
      "    yp = (y+1)/2\n",
      "    y_lp = (y_l+1)/2\n",
      "    y_up = (y_u+1)/2\n",
      "\n",
      "    l_ssl = np.copy(yp)\n",
      "    l_ssl[unlabeled_indices]=-1\n",
      "    \n",
      "    for g in [100,500,1000]:\n",
      "        for a in [0.8, 0.9, 1.0]:\n",
      "            label_prop_model = LabelPropagation(kernel='rbf', gamma=g, alpha = a ,max_iter=100)\n",
      "            fit = label_prop_model.fit(X,l_ssl)\n",
      "            sl = fit.score(L,y_lp)\n",
      "            su = fit.score(U,y_up)\n",
      "            print \"LP rbf\", g, a, sl, su\n",
      "\n",
      "    for k in [1,2,3,4,5]:\n",
      "        for a in [0.8, 0.9, 1.0]:\n",
      "            label_prop_model = LabelPropagation(kernel='knn', n_neighbors=k, alpha = a ,max_iter=100)\n",
      "            fit = label_prop_model.fit(X,l_ssl)\n",
      "            sl = fit.score(L,y_lp)\n",
      "            su = fit.score(U,y_up)\n",
      "            print \"LP knn\", k, a, sl, su\n",
      "\n",
      "            label_spread_model = LabelSpreading(kernel='knn', n_neighbors=k, alpha = a ,max_iter=100)\n",
      "            fit = label_spread_model.fit(X,l_ssl)\n",
      "            sl = fit.score(L,y_lp)\n",
      "            su = fit.score(U,y_up)\n",
      "            print \"LS knn\", k, a, sl, su            \n",
      "    "
     ],
     "language": "python",
     "metadata": {},
     "outputs": []
    },
    {
     "cell_type": "code",
     "collapsed": false,
     "input": [
      "for test_size in [0.05, 0.1, 0.25, 0.5, 0.75, 0.9, 0.95]:\n",
      "    splits = sklearn.cross_validation.StratifiedShuffleSplit(y, n_iter=1, test_size=test_size)\n",
      "    labeled_indices, unlabeled_indices = splits.__iter__().next()\n",
      "    \n",
      "    print \"testing split:  \",test_size\n",
      "    test_label_prop(X, y, labeled_indices, unlabeled_indices)\n",
      "    print \".....................\""
     ],
     "language": "python",
     "metadata": {},
     "outputs": [
      {
       "output_type": "stream",
       "stream": "stdout",
       "text": [
        "testing split:   0.05\n",
        "LP rbf"
       ]
      },
      {
       "output_type": "stream",
       "stream": "stdout",
       "text": [
        " 100 0.8 0.998841861445 0.765\n",
        "LP rbf"
       ]
      },
      {
       "output_type": "stream",
       "stream": "stdout",
       "text": [
        " 100 0.9 0.998841861445 0.764\n",
        "LP rbf"
       ]
      },
      {
       "output_type": "stream",
       "stream": "stdout",
       "text": [
        " 100 1.0 0.998789218783 0.764\n",
        "LP rbf"
       ]
      },
      {
       "output_type": "stream",
       "stream": "stdout",
       "text": [
        " 500 0.8 0.998841861445 0.772\n",
        "LP rbf"
       ]
      },
      {
       "output_type": "stream",
       "stream": "stdout",
       "text": [
        " 500 0.9 0.998841861445 0.772\n",
        "LP rbf"
       ]
      },
      {
       "output_type": "stream",
       "stream": "stdout",
       "text": [
        " 500 1.0 0.998841861445 0.772\n",
        "LP rbf"
       ]
      },
      {
       "output_type": "stream",
       "stream": "stdout",
       "text": [
        " 1000 0.8 0.499947357338 0.5\n",
        "LP rbf"
       ]
      },
      {
       "output_type": "stream",
       "stream": "stdout",
       "text": [
        " 1000 0.9 0.499947357338 0.5\n",
        "LP rbf"
       ]
      },
      {
       "output_type": "stream",
       "stream": "stdout",
       "text": [
        " 1000 1.0 0.499947357338 0.5\n",
        "LP knn"
       ]
      },
      {
       "output_type": "stream",
       "stream": "stdout",
       "text": [
        " 1 0.8 0.996578226995 0.504\n",
        "LS knn"
       ]
      },
      {
       "output_type": "stream",
       "stream": "stdout",
       "text": [
        " 1 0.8 0.996578226995 0.504\n",
        "LP knn"
       ]
      },
      {
       "output_type": "stream",
       "stream": "stdout",
       "text": [
        " 1 0.9 0.996578226995 0.504\n",
        "LS knn"
       ]
      },
      {
       "output_type": "stream",
       "stream": "stdout",
       "text": [
        " 1 0.9 0.996578226995 0.504\n",
        "LP knn"
       ]
      },
      {
       "output_type": "stream",
       "stream": "stdout",
       "text": [
        " 1 1.0 0.996578226995 0.504\n",
        "LS knn"
       ]
      },
      {
       "output_type": "stream",
       "stream": "stdout",
       "text": [
        " 1 1.0 0.499947357338 0.5\n",
        "LP knn"
       ]
      },
      {
       "output_type": "stream",
       "stream": "stdout",
       "text": [
        " 2 0.8 0.725310591704 0.739\n",
        "LS knn"
       ]
      },
      {
       "output_type": "stream",
       "stream": "stdout",
       "text": [
        " 2 0.8 0.725310591704 0.739\n",
        "LP knn"
       ]
      },
      {
       "output_type": "stream",
       "stream": "stdout",
       "text": [
        " 2 0.9 0.725310591704 0.739\n",
        "LS knn"
       ]
      },
      {
       "output_type": "stream",
       "stream": "stdout",
       "text": [
        " 2 0.9 0.725310591704 0.739\n",
        "LP knn"
       ]
      },
      {
       "output_type": "stream",
       "stream": "stdout",
       "text": [
        " 2 1.0 0.725310591704 0.739\n",
        "LS knn"
       ]
      },
      {
       "output_type": "stream",
       "stream": "stdout",
       "text": [
        " 2 1.0 0.710781217098 0.534\n",
        "LP knn"
       ]
      },
      {
       "output_type": "stream",
       "stream": "stdout",
       "text": [
        " 3 0.8 0.608496525584 0.617\n",
        "LS knn"
       ]
      },
      {
       "output_type": "stream",
       "stream": "stdout",
       "text": [
        " 3 0.8 0.608496525584 0.617\n",
        "LP knn"
       ]
      },
      {
       "output_type": "stream",
       "stream": "stdout",
       "text": [
        " 3 0.9 0.608391240261 0.617\n",
        "LS knn"
       ]
      },
      {
       "output_type": "stream",
       "stream": "stdout",
       "text": [
        " 3 0.9 0.608496525584 0.617\n",
        "LP knn"
       ]
      },
      {
       "output_type": "stream",
       "stream": "stdout",
       "text": [
        " 3 1.0 0.608654453569 0.618\n",
        "LS knn"
       ]
      },
      {
       "output_type": "stream",
       "stream": "stdout",
       "text": [
        " 3 1.0 0.608549168246 0.618\n",
        "LP knn"
       ]
      },
      {
       "output_type": "stream",
       "stream": "stdout",
       "text": [
        " 4 0.8 0.549168245947 0.558\n",
        "LS knn"
       ]
      },
      {
       "output_type": "stream",
       "stream": "stdout",
       "text": [
        " 4 0.8 0.549905243209 0.559\n",
        "LP knn"
       ]
      },
      {
       "output_type": "stream",
       "stream": "stdout",
       "text": [
        " 4 0.9 0.549168245947 0.558\n",
        "LS knn"
       ]
      },
      {
       "output_type": "stream",
       "stream": "stdout",
       "text": [
        " 4 0.9 0.550010528532 0.559\n",
        "LP knn"
       ]
      },
      {
       "output_type": "stream",
       "stream": "stdout",
       "text": [
        " 4 1.0 0.549326173931 0.558\n",
        "LS knn"
       ]
      },
      {
       "output_type": "stream",
       "stream": "stdout",
       "text": [
        " 4 1.0 0.548694461992 0.558\n",
        "LP knn"
       ]
      },
      {
       "output_type": "stream",
       "stream": "stdout",
       "text": [
        " 5 0.8 0.522425773847 0.526\n",
        "LS knn"
       ]
      },
      {
       "output_type": "stream",
       "stream": "stdout",
       "text": [
        " 5 0.8 0.523794483049 0.526\n",
        "LP knn"
       ]
      },
      {
       "output_type": "stream",
       "stream": "stdout",
       "text": [
        " 5 0.9 0.522583701832 0.526\n",
        "LS knn"
       ]
      },
      {
       "output_type": "stream",
       "stream": "stdout",
       "text": [
        " 5 0.9 0.523741840387 0.526\n",
        "LP knn"
       ]
      },
      {
       "output_type": "stream",
       "stream": "stdout",
       "text": [
        " 5 1.0 0.523004843125 0.526\n",
        "LS knn"
       ]
      },
      {
       "output_type": "stream",
       "stream": "stdout",
       "text": [
        " 5 1.0 0.52253105917 0.526\n",
        "....................."
       ]
      },
      {
       "output_type": "stream",
       "stream": "stdout",
       "text": [
        "\n",
        "testing split:   0.1\n",
        "LP rbf"
       ]
      },
      {
       "output_type": "stream",
       "stream": "stdout",
       "text": [
        " 100 0.8 0.998833074016 0.7565\n",
        "LP rbf"
       ]
      },
      {
       "output_type": "stream",
       "stream": "stdout",
       "text": [
        " 100 0.9 0.998833074016 0.755\n",
        "LP rbf"
       ]
      },
      {
       "output_type": "stream",
       "stream": "stdout",
       "text": [
        " 100 1.0 0.998777506112 0.754\n",
        "LP rbf"
       ]
      },
      {
       "output_type": "stream",
       "stream": "stdout",
       "text": [
        " 500 0.8 0.998833074016 0.7635\n",
        "LP rbf"
       ]
      },
      {
       "output_type": "stream",
       "stream": "stdout",
       "text": [
        " 500 0.9 0.998833074016 0.7635\n",
        "LP rbf"
       ]
      },
      {
       "output_type": "stream",
       "stream": "stdout",
       "text": [
        " 500 1.0 0.998833074016 0.7635\n",
        "LP rbf"
       ]
      },
      {
       "output_type": "stream",
       "stream": "stdout",
       "text": [
        " 1000 0.8 0.499944432096 0.5\n",
        "LP rbf"
       ]
      },
      {
       "output_type": "stream",
       "stream": "stdout",
       "text": [
        " 1000 0.9 0.499944432096 0.5\n",
        "LP rbf"
       ]
      },
      {
       "output_type": "stream",
       "stream": "stdout",
       "text": [
        " 1000 1.0 0.499944432096 0.5\n",
        "LP knn"
       ]
      },
      {
       "output_type": "stream",
       "stream": "stdout",
       "text": [
        " 1 0.8 0.996165814625 0.5065\n",
        "LS knn"
       ]
      },
      {
       "output_type": "stream",
       "stream": "stdout",
       "text": [
        " 1 0.8 0.996165814625 0.5065\n",
        "LP knn"
       ]
      },
      {
       "output_type": "stream",
       "stream": "stdout",
       "text": [
        " 1 0.9 0.996165814625 0.5065\n",
        "LS knn"
       ]
      },
      {
       "output_type": "stream",
       "stream": "stdout",
       "text": [
        " 1 0.9 0.996165814625 0.5065\n",
        "LP knn"
       ]
      },
      {
       "output_type": "stream",
       "stream": "stdout",
       "text": [
        " 1 1.0 0.996165814625 0.5065\n",
        "LS knn"
       ]
      },
      {
       "output_type": "stream",
       "stream": "stdout",
       "text": [
        " 1 1.0 0.499944432096 0.5\n",
        "LP knn"
       ]
      },
      {
       "output_type": "stream",
       "stream": "stdout",
       "text": [
        " 2 0.8 0.725494554345 0.7205\n",
        "LS knn"
       ]
      },
      {
       "output_type": "stream",
       "stream": "stdout",
       "text": [
        " 2 0.8 0.725494554345 0.7205\n",
        "LP knn"
       ]
      },
      {
       "output_type": "stream",
       "stream": "stdout",
       "text": [
        " 2 0.9 0.725494554345 0.7205\n",
        "LS knn"
       ]
      },
      {
       "output_type": "stream",
       "stream": "stdout",
       "text": [
        " 2 0.9 0.725494554345 0.7205\n",
        "LP knn"
       ]
      },
      {
       "output_type": "stream",
       "stream": "stdout",
       "text": [
        " 2 1.0 0.725494554345 0.7205\n",
        "LS knn"
       ]
      },
      {
       "output_type": "stream",
       "stream": "stdout",
       "text": [
        " 2 1.0 0.696877083796 0.5335\n",
        "LP knn"
       ]
      },
      {
       "output_type": "stream",
       "stream": "stdout",
       "text": [
        " 3 0.8 0.608968659702 0.603\n",
        "LS knn"
       ]
      },
      {
       "output_type": "stream",
       "stream": "stdout",
       "text": [
        " 3 0.8 0.609024227606 0.603\n",
        "LP knn"
       ]
      },
      {
       "output_type": "stream",
       "stream": "stdout",
       "text": [
        " 3 0.9 0.608857523894 0.603\n",
        "LS knn"
       ]
      },
      {
       "output_type": "stream",
       "stream": "stdout",
       "text": [
        " 3 0.9 0.609135363414 0.603\n",
        "LP knn"
       ]
      },
      {
       "output_type": "stream",
       "stream": "stdout",
       "text": [
        " 3 1.0 0.609691042454 0.603\n",
        "LS knn"
       ]
      },
      {
       "output_type": "stream",
       "stream": "stdout",
       "text": [
        " 3 1.0 0.609579906646 0.603\n",
        "LP knn"
       ]
      },
      {
       "output_type": "stream",
       "stream": "stdout",
       "text": [
        " 4 0.8 0.549511002445 0.544\n",
        "LS knn"
       ]
      },
      {
       "output_type": "stream",
       "stream": "stdout",
       "text": [
        " 4 0.8 0.550122249389 0.544\n",
        "LP knn"
       ]
      },
      {
       "output_type": "stream",
       "stream": "stdout",
       "text": [
        " 4 0.9 0.549511002445 0.544\n",
        "LS knn"
       ]
      },
      {
       "output_type": "stream",
       "stream": "stdout",
       "text": [
        " 4 0.9 0.550233385197 0.5445\n",
        "LP knn"
       ]
      },
      {
       "output_type": "stream",
       "stream": "stdout",
       "text": [
        " 4 1.0 0.549677706157 0.5445\n",
        "LS knn"
       ]
      },
      {
       "output_type": "stream",
       "stream": "stdout",
       "text": [
        " 4 1.0 0.549122027117 0.5435\n",
        "LP knn"
       ]
      },
      {
       "output_type": "stream",
       "stream": "stdout",
       "text": [
        " 5 0.8 0.522838408535 0.519\n",
        "LS knn"
       ]
      },
      {
       "output_type": "stream",
       "stream": "stdout",
       "text": [
        " 5 0.8 0.524005334519 0.519\n",
        "LP knn"
       ]
      },
      {
       "output_type": "stream",
       "stream": "stdout",
       "text": [
        " 5 0.9 0.523171815959 0.519\n",
        "LS knn"
       ]
      },
      {
       "output_type": "stream",
       "stream": "stdout",
       "text": [
        " 5 0.9 0.524060902423 0.519\n",
        "LP knn"
       ]
      },
      {
       "output_type": "stream",
       "stream": "stdout",
       "text": [
        " 5 1.0 0.523449655479 0.519\n",
        "LS knn"
       ]
      },
      {
       "output_type": "stream",
       "stream": "stdout",
       "text": [
        " 5 1.0 0.523060680151 0.518\n",
        ".....................\n",
        "testing split:  "
       ]
      },
      {
       "output_type": "stream",
       "stream": "stdout",
       "text": [
        " 0.25\n",
        "LP rbf"
       ]
      },
      {
       "output_type": "stream",
       "stream": "stdout",
       "text": [
        " 100 0.8 0.998933119957 0.727945589118\n",
        "LP rbf"
       ]
      },
      {
       "output_type": "stream",
       "stream": "stdout",
       "text": [
        " 100 0.9 0.998933119957 0.725545109022\n",
        "LP rbf"
       ]
      },
      {
       "output_type": "stream",
       "stream": "stdout",
       "text": [
        " 100 1.0 0.998933119957 0.720944188838\n",
        "LP rbf"
       ]
      },
      {
       "output_type": "stream",
       "stream": "stdout",
       "text": [
        " 500 0.8 0.998933119957 0.731346269254\n",
        "LP rbf"
       ]
      },
      {
       "output_type": "stream",
       "stream": "stdout",
       "text": [
        " 500 0.9 0.998933119957 0.730946189238\n",
        "LP rbf"
       ]
      },
      {
       "output_type": "stream",
       "stream": "stdout",
       "text": [
        " 500 1.0 0.998933119957 0.730146029206\n",
        "LP rbf"
       ]
      },
      {
       "output_type": "stream",
       "stream": "stdout",
       "text": [
        " 1000 0.8 0.499966659999 0.499899979996\n",
        "LP rbf"
       ]
      },
      {
       "output_type": "stream",
       "stream": "stdout",
       "text": [
        " 1000 0.9 0.499966659999 0.499899979996\n",
        "LP rbf"
       ]
      },
      {
       "output_type": "stream",
       "stream": "stdout",
       "text": [
        " 1000 1.0 0.499966659999 0.499899979996\n",
        "LP knn"
       ]
      },
      {
       "output_type": "stream",
       "stream": "stdout",
       "text": [
        " 1 0.8 0.995732479829 0.505101020204\n",
        "LS knn"
       ]
      },
      {
       "output_type": "stream",
       "stream": "stdout",
       "text": [
        " 1 0.8 0.995732479829 0.505101020204\n",
        "LP knn"
       ]
      },
      {
       "output_type": "stream",
       "stream": "stdout",
       "text": [
        " 1 0.9 0.995732479829 0.505101020204\n",
        "LS knn"
       ]
      },
      {
       "output_type": "stream",
       "stream": "stdout",
       "text": [
        " 1 0.9 0.995732479829 0.505101020204\n",
        "LP knn"
       ]
      },
      {
       "output_type": "stream",
       "stream": "stdout",
       "text": [
        " 1 1.0 0.995732479829 0.505101020204\n",
        "LS knn"
       ]
      },
      {
       "output_type": "stream",
       "stream": "stdout",
       "text": [
        " 1 1.0 0.499966659999 0.499899979996\n",
        "LP knn"
       ]
      },
      {
       "output_type": "stream",
       "stream": "stdout",
       "text": [
        " 2 0.8 0.772287790892 0.722544508902\n",
        "LS knn"
       ]
      },
      {
       "output_type": "stream",
       "stream": "stdout",
       "text": [
        " 2 0.8 0.772287790892 0.722544508902\n",
        "LP knn"
       ]
      },
      {
       "output_type": "stream",
       "stream": "stdout",
       "text": [
        " 2 0.9 0.772287790892 0.722544508902\n",
        "LS knn"
       ]
      },
      {
       "output_type": "stream",
       "stream": "stdout",
       "text": [
        " 2 0.9 0.772287790892 0.722544508902\n",
        "LP knn"
       ]
      },
      {
       "output_type": "stream",
       "stream": "stdout",
       "text": [
        " 2 1.0 0.772287790892 0.722544508902\n",
        "LS knn"
       ]
      },
      {
       "output_type": "stream",
       "stream": "stdout",
       "text": [
        " 2 1.0 0.660198706408 0.521904380876\n",
        "LP knn"
       ]
      },
      {
       "output_type": "stream",
       "stream": "stdout",
       "text": [
        " 3 0.8 0.606654664266 0.605921184237\n",
        "LS knn"
       ]
      },
      {
       "output_type": "stream",
       "stream": "stdout",
       "text": [
        " 3 0.8 0.612589184504 0.609721944389\n",
        "LP knn"
       ]
      },
      {
       "output_type": "stream",
       "stream": "stdout",
       "text": [
        " 3 0.9 0.605721144229 0.605921184237\n",
        "LS knn"
       ]
      },
      {
       "output_type": "stream",
       "stream": "stdout",
       "text": [
        " 3 0.9 0.607121424285 0.605321064213\n",
        "LP knn"
       ]
      },
      {
       "output_type": "stream",
       "stream": "stdout",
       "text": [
        " 3 1.0 0.605587784224 0.604120824165\n",
        "LS knn"
       ]
      },
      {
       "output_type": "stream",
       "stream": "stdout",
       "text": [
        " 3 1.0 0.605587784224 0.604120824165\n",
        "LP knn"
       ]
      },
      {
       "output_type": "stream",
       "stream": "stdout",
       "text": [
        " 4 0.8 0.554577582183 0.554310862172\n",
        "LS knn"
       ]
      },
      {
       "output_type": "stream",
       "stream": "stdout",
       "text": [
        " 4 0.8 0.561178902447 0.56051210242\n",
        "LP knn"
       ]
      },
      {
       "output_type": "stream",
       "stream": "stdout",
       "text": [
        " 4 0.9 0.551910382076 0.551710342068\n",
        "LS knn"
       ]
      },
      {
       "output_type": "stream",
       "stream": "stdout",
       "text": [
        " 4 0.9 0.554977662199 0.556111222244\n",
        "LP knn"
       ]
      },
      {
       "output_type": "stream",
       "stream": "stdout",
       "text": [
        " 4 1.0 0.549776621991 0.549909981996\n",
        "LS knn"
       ]
      },
      {
       "output_type": "stream",
       "stream": "stdout",
       "text": [
        " 4 1.0 0.549709941988 0.549909981996\n",
        "LP knn"
       ]
      },
      {
       "output_type": "stream",
       "stream": "stdout",
       "text": [
        " 5 0.8 0.52550510102 0.524904980996\n",
        "LS knn"
       ]
      },
      {
       "output_type": "stream",
       "stream": "stdout",
       "text": [
        " 5 0.8 0.530439421218 0.530706141228\n",
        "LP knn"
       ]
      },
      {
       "output_type": "stream",
       "stream": "stdout",
       "text": [
        " 5 0.9 0.525038341002 0.525105021004\n",
        "LS knn"
       ]
      },
      {
       "output_type": "stream",
       "stream": "stdout",
       "text": [
        " 5 0.9 0.526838701074 0.527105421084\n",
        "LP knn"
       ]
      },
      {
       "output_type": "stream",
       "stream": "stdout",
       "text": [
        " 5 1.0 0.523438020938 0.5225045009\n",
        "LS knn"
       ]
      },
      {
       "output_type": "stream",
       "stream": "stdout",
       "text": [
        " 5 1.0 0.523304660932 0.5225045009\n",
        "....................."
       ]
      },
      {
       "output_type": "stream",
       "stream": "stdout",
       "text": [
        "\n",
        "testing split:   0.5\n",
        "LP rbf"
       ]
      },
      {
       "output_type": "stream",
       "stream": "stdout",
       "text": [
        " 100 0.8 0.999399879976 0.671834366873\n",
        "LP rbf"
       ]
      },
      {
       "output_type": "stream",
       "stream": "stdout",
       "text": [
        " 100 0.9 0.999399879976 0.669933986797\n",
        "LP rbf"
       ]
      },
      {
       "output_type": "stream",
       "stream": "stdout",
       "text": [
        " 100 1.0 0.999299859972 0.665633126625\n",
        "LP rbf"
       ]
      },
      {
       "output_type": "stream",
       "stream": "stdout",
       "text": [
        " 500 0.8 0.999399879976 0.673834766953\n",
        "LP rbf"
       ]
      },
      {
       "output_type": "stream",
       "stream": "stdout",
       "text": [
        " 500 0.9 0.999399879976 0.673634726945\n",
        "LP rbf"
       ]
      },
      {
       "output_type": "stream",
       "stream": "stdout",
       "text": [
        " 500 1.0 0.999399879976 0.673134626925\n",
        "LP rbf"
       ]
      },
      {
       "output_type": "stream",
       "stream": "stdout",
       "text": [
        " 1000 0.8 0.499899979996 0.5\n",
        "LP rbf"
       ]
      },
      {
       "output_type": "stream",
       "stream": "stdout",
       "text": [
        " 1000 0.9 0.499899979996 0.5\n",
        "LP rbf"
       ]
      },
      {
       "output_type": "stream",
       "stream": "stdout",
       "text": [
        " 1000 1.0 0.499899979996 0.5\n",
        "LP knn"
       ]
      },
      {
       "output_type": "stream",
       "stream": "stdout",
       "text": [
        " 1 0.8 0.994698939788 0.504300860172\n",
        "LS knn"
       ]
      },
      {
       "output_type": "stream",
       "stream": "stdout",
       "text": [
        " 1 0.8 0.994698939788 0.504300860172\n",
        "LP knn"
       ]
      },
      {
       "output_type": "stream",
       "stream": "stdout",
       "text": [
        " 1 0.9 0.994698939788 0.504300860172\n",
        "LS knn"
       ]
      },
      {
       "output_type": "stream",
       "stream": "stdout",
       "text": [
        " 1 0.9 0.994698939788 0.504300860172\n",
        "LP knn"
       ]
      },
      {
       "output_type": "stream",
       "stream": "stdout",
       "text": [
        " 1 1.0 0.994698939788 0.504300860172\n",
        "LS knn"
       ]
      },
      {
       "output_type": "stream",
       "stream": "stdout",
       "text": [
        " 1 1.0 0.499899979996 0.5\n",
        "LP knn"
       ]
      },
      {
       "output_type": "stream",
       "stream": "stdout",
       "text": [
        " 2 0.8 0.76925385077 0.669033806761\n",
        "LS knn"
       ]
      },
      {
       "output_type": "stream",
       "stream": "stdout",
       "text": [
        " 2 0.8 0.76925385077 0.669033806761\n",
        "LP knn"
       ]
      },
      {
       "output_type": "stream",
       "stream": "stdout",
       "text": [
        " 2 0.9 0.76925385077 0.669033806761\n",
        "LS knn"
       ]
      },
      {
       "output_type": "stream",
       "stream": "stdout",
       "text": [
        " 2 0.9 0.76925385077 0.669033806761\n",
        "LP knn"
       ]
      },
      {
       "output_type": "stream",
       "stream": "stdout",
       "text": [
        " 2 1.0 0.76925385077 0.669033806761\n",
        "LS knn"
       ]
      },
      {
       "output_type": "stream",
       "stream": "stdout",
       "text": [
        " 2 1.0 0.605721144229 0.50900180036\n",
        "LP knn"
       ]
      },
      {
       "output_type": "stream",
       "stream": "stdout",
       "text": [
        " 3 0.8 0.607921584317 0.584816963393\n",
        "LS knn"
       ]
      },
      {
       "output_type": "stream",
       "stream": "stdout",
       "text": [
        " 3 0.8 0.615123024605 0.587517503501\n",
        "LP knn"
       ]
      },
      {
       "output_type": "stream",
       "stream": "stdout",
       "text": [
        " 3 0.9 0.608021604321 0.584816963393\n",
        "LS knn"
       ]
      },
      {
       "output_type": "stream",
       "stream": "stdout",
       "text": [
        " 3 0.9 0.609121824365 0.585917183437\n",
        "LP knn"
       ]
      },
      {
       "output_type": "stream",
       "stream": "stdout",
       "text": [
        " 3 1.0 0.608821764353 0.585417083417\n",
        "LS knn"
       ]
      },
      {
       "output_type": "stream",
       "stream": "stdout",
       "text": [
        " 3 1.0 0.608621724345 0.585217043409\n",
        "LP knn"
       ]
      },
      {
       "output_type": "stream",
       "stream": "stdout",
       "text": [
        " 4 0.8 0.553610722144 0.545609121824\n",
        "LS knn"
       ]
      },
      {
       "output_type": "stream",
       "stream": "stdout",
       "text": [
        " 4 0.8 0.562512502501 0.55201040208\n",
        "LP knn"
       ]
      },
      {
       "output_type": "stream",
       "stream": "stdout",
       "text": [
        " 4 0.9 0.552310462092 0.545609121824\n",
        "LS knn"
       ]
      },
      {
       "output_type": "stream",
       "stream": "stdout",
       "text": [
        " 4 0.9 0.556411282256 0.548109621924\n",
        "LP knn"
       ]
      },
      {
       "output_type": "stream",
       "stream": "stdout",
       "text": [
        " 4 1.0 0.55151030206 0.545209041808\n",
        "LS knn"
       ]
      },
      {
       "output_type": "stream",
       "stream": "stdout",
       "text": [
        " 4 1.0 0.55151030206 0.545209041808\n",
        "LP knn"
       ]
      },
      {
       "output_type": "stream",
       "stream": "stdout",
       "text": [
        " 5 0.8 0.528105621124 0.523604720944\n",
        "LS knn"
       ]
      },
      {
       "output_type": "stream",
       "stream": "stdout",
       "text": [
        " 5 0.8 0.538207641528 0.529705941188\n",
        "LP knn"
       ]
      },
      {
       "output_type": "stream",
       "stream": "stdout",
       "text": [
        " 5 0.9 0.5275055011 0.523204640928\n",
        "LS knn"
       ]
      },
      {
       "output_type": "stream",
       "stream": "stdout",
       "text": [
        " 5 0.9 0.53100620124 0.52550510102\n",
        "LP knn"
       ]
      },
      {
       "output_type": "stream",
       "stream": "stdout",
       "text": [
        " 5 1.0 0.524904980996 0.521404280856\n",
        "LS knn"
       ]
      },
      {
       "output_type": "stream",
       "stream": "stdout",
       "text": [
        " 5 1.0 0.524604920984 0.521104220844\n",
        "....................."
       ]
      },
      {
       "output_type": "stream",
       "stream": "stdout",
       "text": [
        "\n",
        "testing split:   0.75\n",
        "LP rbf"
       ]
      },
      {
       "output_type": "stream",
       "stream": "stdout",
       "text": [
        " 100 0.8 0.999399879976 0.611789024472\n",
        "LP rbf"
       ]
      },
      {
       "output_type": "stream",
       "stream": "stdout",
       "text": [
        " 100 0.9 0.999399879976 0.610655464426\n",
        "LP rbf"
       ]
      },
      {
       "output_type": "stream",
       "stream": "stdout",
       "text": [
        " 100 1.0 0.999399879976 0.606321264253\n",
        "LP rbf"
       ]
      },
      {
       "output_type": "stream",
       "stream": "stdout",
       "text": [
        " 500 0.8 0.999399879976 0.610722144429\n",
        "LP rbf"
       ]
      },
      {
       "output_type": "stream",
       "stream": "stdout",
       "text": [
        " 500 0.9 0.999399879976 0.610522104421\n",
        "LP rbf"
       ]
      },
      {
       "output_type": "stream",
       "stream": "stdout",
       "text": [
        " 500 1.0 0.999399879976 0.609588584384\n",
        "LP rbf"
       ]
      },
      {
       "output_type": "stream",
       "stream": "stdout",
       "text": [
        " 1000 0.8 0.499899979996 0.499966659999\n",
        "LP rbf"
       ]
      },
      {
       "output_type": "stream",
       "stream": "stdout",
       "text": [
        " 1000 0.9 0.499899979996 0.499966659999\n",
        "LP rbf"
       ]
      },
      {
       "output_type": "stream",
       "stream": "stdout",
       "text": [
        " 1000 1.0 0.499899979996 0.499966659999\n",
        "LP knn"
       ]
      },
      {
       "output_type": "stream",
       "stream": "stdout",
       "text": [
        " 1 0.8 0.99399879976 0.502100420084\n",
        "LS knn"
       ]
      },
      {
       "output_type": "stream",
       "stream": "stdout",
       "text": [
        " 1 0.8 0.99399879976 0.502100420084\n",
        "LP knn"
       ]
      },
      {
       "output_type": "stream",
       "stream": "stdout",
       "text": [
        " 1 0.9 0.99399879976 0.502100420084\n",
        "LS knn"
       ]
      },
      {
       "output_type": "stream",
       "stream": "stdout",
       "text": [
        " 1 0.9 0.99399879976 0.502100420084\n",
        "LP knn"
       ]
      },
      {
       "output_type": "stream",
       "stream": "stdout",
       "text": [
        " 1 1.0 0.99399879976 0.502100420084\n",
        "LS knn"
       ]
      },
      {
       "output_type": "stream",
       "stream": "stdout",
       "text": [
        " 1 1.0 0.499899979996 0.499966659999\n",
        "LP knn"
       ]
      },
      {
       "output_type": "stream",
       "stream": "stdout",
       "text": [
        " 2 0.8 0.693138627726 0.562579182503\n",
        "LS knn"
       ]
      },
      {
       "output_type": "stream",
       "stream": "stdout",
       "text": [
        " 2 0.8 0.693138627726 0.562579182503\n",
        "LP knn"
       ]
      },
      {
       "output_type": "stream",
       "stream": "stdout",
       "text": [
        " 2 0.9 0.693138627726 0.562579182503\n",
        "LS knn"
       ]
      },
      {
       "output_type": "stream",
       "stream": "stdout",
       "text": [
        " 2 0.9 0.693138627726 0.562579182503\n",
        "LP knn"
       ]
      },
      {
       "output_type": "stream",
       "stream": "stdout",
       "text": [
        " 2 1.0 0.693138627726 0.562579182503\n",
        "LS knn"
       ]
      },
      {
       "output_type": "stream",
       "stream": "stdout",
       "text": [
        " 2 1.0 0.541108221644 0.501833700073\n",
        "LP knn"
       ]
      },
      {
       "output_type": "stream",
       "stream": "stdout",
       "text": [
        " 3 0.8 0.574514902981 0.542308461692\n",
        "LS knn"
       ]
      },
      {
       "output_type": "stream",
       "stream": "stdout",
       "text": [
        " 3 0.8 0.574714942989 0.542308461692\n",
        "LP knn"
       ]
      },
      {
       "output_type": "stream",
       "stream": "stdout",
       "text": [
        " 3 0.9 0.574514902981 0.542308461692\n",
        "LS knn"
       ]
      },
      {
       "output_type": "stream",
       "stream": "stdout",
       "text": [
        " 3 0.9 0.574714942989 0.542308461692\n",
        "LP knn"
       ]
      },
      {
       "output_type": "stream",
       "stream": "stdout",
       "text": [
        " 3 1.0 0.574514902981 0.542308461692\n",
        "LS knn"
       ]
      },
      {
       "output_type": "stream",
       "stream": "stdout",
       "text": [
        " 3 1.0 0.569313862773 0.538174301527\n",
        "LP knn"
       ]
      },
      {
       "output_type": "stream",
       "stream": "stdout",
       "text": [
        " 4 0.8 0.548309661932 0.539907981596\n",
        "LS knn"
       ]
      },
      {
       "output_type": "stream",
       "stream": "stdout",
       "text": [
        " 4 0.8 0.555111022204 0.544642261786\n",
        "LP knn"
       ]
      },
      {
       "output_type": "stream",
       "stream": "stdout",
       "text": [
        " 4 0.9 0.548109621924 0.539907981596\n",
        "LS knn"
       ]
      },
      {
       "output_type": "stream",
       "stream": "stdout",
       "text": [
        " 4 0.9 0.5525105021 0.5425085017\n",
        "LP knn"
       ]
      },
      {
       "output_type": "stream",
       "stream": "stdout",
       "text": [
        " 4 1.0 0.54850970194 0.540374741615\n",
        "LS knn"
       ]
      },
      {
       "output_type": "stream",
       "stream": "stdout",
       "text": [
        " 4 1.0 0.54850970194 0.540374741615\n",
        "LP knn"
       ]
      },
      {
       "output_type": "stream",
       "stream": "stdout",
       "text": [
        " 5 0.8 0.522904580916 0.519103820764\n",
        "LS knn"
       ]
      },
      {
       "output_type": "stream",
       "stream": "stdout",
       "text": [
        " 5 0.8 0.534106821364 0.52523838101\n",
        "LP knn"
       ]
      },
      {
       "output_type": "stream",
       "stream": "stdout",
       "text": [
        " 5 0.9 0.523104620924 0.519370540775\n",
        "LS knn"
       ]
      },
      {
       "output_type": "stream",
       "stream": "stdout",
       "text": [
        " 5 0.9 0.5275055011 0.522437820898\n",
        "LP knn"
       ]
      },
      {
       "output_type": "stream",
       "stream": "stdout",
       "text": [
        " 5 1.0 0.522904580916 0.519770620791\n",
        "LS knn"
       ]
      },
      {
       "output_type": "stream",
       "stream": "stdout",
       "text": [
        " 5 1.0 0.522904580916 0.519770620791\n",
        "....................."
       ]
      },
      {
       "output_type": "stream",
       "stream": "stdout",
       "text": [
        "\n",
        "testing split:   0.9\n",
        "LP rbf"
       ]
      },
      {
       "output_type": "stream",
       "stream": "stdout",
       "text": [
        " 100 0.8 0.999499749875 0.548869255987\n",
        "LP rbf"
       ]
      },
      {
       "output_type": "stream",
       "stream": "stdout",
       "text": [
        " 100 0.9 0.999499749875 0.548091348558\n",
        "LP rbf"
       ]
      },
      {
       "output_type": "stream",
       "stream": "stdout",
       "text": [
        " 100 1.0 0.999499749875 0.545646496638\n",
        "LP rbf"
       ]
      },
      {
       "output_type": "stream",
       "stream": "stdout",
       "text": [
        " 500 0.8 0.999499749875 0.547424570762\n",
        "LP rbf"
       ]
      },
      {
       "output_type": "stream",
       "stream": "stdout",
       "text": [
        " 500 0.9 0.999499749875 0.547257876313\n",
        "LP rbf"
       ]
      },
      {
       "output_type": "stream",
       "stream": "stdout",
       "text": [
        " 500 1.0 0.999499749875 0.546591098516\n",
        "LP rbf"
       ]
      },
      {
       "output_type": "stream",
       "stream": "stdout",
       "text": [
        " 1000 0.8 0.499749874937 0.499972217592\n",
        "LP rbf"
       ]
      },
      {
       "output_type": "stream",
       "stream": "stdout",
       "text": [
        " 1000 0.9 0.499749874937 0.499972217592\n",
        "LP rbf"
       ]
      },
      {
       "output_type": "stream",
       "stream": "stdout",
       "text": [
        " 1000 1.0 0.499749874937 0.499972217592\n",
        "LP knn"
       ]
      },
      {
       "output_type": "stream",
       "stream": "stdout",
       "text": [
        " 1 0.8 0.989994997499 0.50091681947\n",
        "LS knn"
       ]
      },
      {
       "output_type": "stream",
       "stream": "stdout",
       "text": [
        " 1 0.8 0.989994997499 0.50091681947\n",
        "LP knn"
       ]
      },
      {
       "output_type": "stream",
       "stream": "stdout",
       "text": [
        " 1 0.9 0.989994997499 0.50091681947\n",
        "LS knn"
       ]
      },
      {
       "output_type": "stream",
       "stream": "stdout",
       "text": [
        " 1 0.9 0.989994997499 0.50091681947\n",
        "LP knn"
       ]
      },
      {
       "output_type": "stream",
       "stream": "stdout",
       "text": [
        " 1 1.0 0.989994997499 0.50091681947\n",
        "LS knn"
       ]
      },
      {
       "output_type": "stream",
       "stream": "stdout",
       "text": [
        " 1 1.0 0.499749874937 0.499972217592\n",
        "LP knn"
       ]
      },
      {
       "output_type": "stream",
       "stream": "stdout",
       "text": [
        " 2 0.8 0.687843921961 0.526032116464\n",
        "LS knn"
       ]
      },
      {
       "output_type": "stream",
       "stream": "stdout",
       "text": [
        " 2 0.8 0.687843921961 0.526032116464\n",
        "LP knn"
       ]
      },
      {
       "output_type": "stream",
       "stream": "stdout",
       "text": [
        " 2 0.9 0.687843921961 0.526032116464\n",
        "LS knn"
       ]
      },
      {
       "output_type": "stream",
       "stream": "stdout",
       "text": [
        " 2 0.9 0.687843921961 0.526032116464\n",
        "LP knn"
       ]
      },
      {
       "output_type": "stream",
       "stream": "stdout",
       "text": [
        " 2 1.0 0.687843921961 0.526032116464\n",
        "LS knn"
       ]
      },
      {
       "output_type": "stream",
       "stream": "stdout",
       "text": [
        " 2 1.0 0.52176088044 0.500472300939\n",
        "LP knn"
       ]
      },
      {
       "output_type": "stream",
       "stream": "stdout",
       "text": [
        " 3 0.8 0.587793896948 0.520642329277\n",
        "LS knn"
       ]
      },
      {
       "output_type": "stream",
       "stream": "stdout",
       "text": [
        " 3 0.8 0.587793896948 0.520642329277\n",
        "LP knn"
       ]
      },
      {
       "output_type": "stream",
       "stream": "stdout",
       "text": [
        " 3 0.9 0.587293646823 0.520586764461\n",
        "LS knn"
       ]
      },
      {
       "output_type": "stream",
       "stream": "stdout",
       "text": [
        " 3 0.9 0.587793896948 0.520642329277\n",
        "LP knn"
       ]
      },
      {
       "output_type": "stream",
       "stream": "stdout",
       "text": [
        " 3 1.0 0.587793896948 0.520642329277\n",
        "LS knn"
       ]
      },
      {
       "output_type": "stream",
       "stream": "stdout",
       "text": [
        " 3 1.0 0.576288144072 0.518808690337\n",
        "LP knn"
       ]
      },
      {
       "output_type": "stream",
       "stream": "stdout",
       "text": [
        " 4 0.8 0.537768884442 0.511307440129\n",
        "LS knn"
       ]
      },
      {
       "output_type": "stream",
       "stream": "stdout",
       "text": [
        " 4 0.8 0.538269134567 0.511029616047\n",
        "LP knn"
       ]
      },
      {
       "output_type": "stream",
       "stream": "stdout",
       "text": [
        " 4 0.9 0.538269134567 0.511085180863\n",
        "LS knn"
       ]
      },
      {
       "output_type": "stream",
       "stream": "stdout",
       "text": [
        " 4 0.9 0.538269134567 0.511029616047\n",
        "LP knn"
       ]
      },
      {
       "output_type": "stream",
       "stream": "stdout",
       "text": [
        " 4 1.0 0.534767383692 0.510418403067\n",
        "LS knn"
       ]
      },
      {
       "output_type": "stream",
       "stream": "stdout",
       "text": [
        " 4 1.0 0.534267133567 0.510585097516\n",
        "LP knn"
       ]
      },
      {
       "output_type": "stream",
       "stream": "stdout",
       "text": [
        " 5 0.8 0.515257628814 0.504084014002\n",
        "LS knn"
       ]
      },
      {
       "output_type": "stream",
       "stream": "stdout",
       "text": [
        " 5 0.8 0.515257628814 0.503917319553\n",
        "LP knn"
       ]
      },
      {
       "output_type": "stream",
       "stream": "stdout",
       "text": [
        " 5 0.9 0.515257628814 0.504028449186\n",
        "LS knn"
       ]
      },
      {
       "output_type": "stream",
       "stream": "stdout",
       "text": [
        " 5 0.9 0.515257628814 0.503917319553\n",
        "LP knn"
       ]
      },
      {
       "output_type": "stream",
       "stream": "stdout",
       "text": [
        " 5 1.0 0.514257128564 0.5044174029\n",
        "LS knn"
       ]
      },
      {
       "output_type": "stream",
       "stream": "stdout",
       "text": [
        " 5 1.0 0.514257128564 0.504306273268\n",
        "....................."
       ]
      },
      {
       "output_type": "stream",
       "stream": "stdout",
       "text": [
        "\n",
        "testing split:   0.95\n",
        "LP rbf"
       ]
      },
      {
       "output_type": "stream",
       "stream": "stdout",
       "text": [
        " 100 0.8 1.0 0.526714744433\n",
        "LP rbf"
       ]
      },
      {
       "output_type": "stream",
       "stream": "stdout",
       "text": [
        " 100 0.9 1.0 0.526135705638\n",
        "LP rbf"
       ]
      },
      {
       "output_type": "stream",
       "stream": "stdout",
       "text": [
        " 100 1.0 1.0 0.525135547718\n",
        "LP rbf"
       ]
      },
      {
       "output_type": "stream",
       "stream": "stdout",
       "text": [
        " 500 0.8 1.0 0.525451387061\n",
        "LP rbf"
       ]
      },
      {
       "output_type": "stream",
       "stream": "stdout",
       "text": [
        " 500 0.9 1.0 0.52529346739\n",
        "LP rbf"
       ]
      },
      {
       "output_type": "stream",
       "stream": "stdout",
       "text": [
        " 500 1.0 1.0 0.525135547718\n",
        "LP rbf"
       ]
      },
      {
       "output_type": "stream",
       "stream": "stdout",
       "text": [
        " 1000 0.8 0.499499499499 0.499973680055\n",
        "LP rbf"
       ]
      },
      {
       "output_type": "stream",
       "stream": "stdout",
       "text": [
        " 1000 0.9 0.499499499499 0.499973680055\n",
        "LP rbf"
       ]
      },
      {
       "output_type": "stream",
       "stream": "stdout",
       "text": [
        " 1000 1.0 0.499499499499 0.499973680055\n",
        "LP knn"
       ]
      },
      {
       "output_type": "stream",
       "stream": "stdout",
       "text": [
        " 1 0.8 0.987987987988 0.499973680055\n",
        "LS knn"
       ]
      },
      {
       "output_type": "stream",
       "stream": "stdout",
       "text": [
        " 1 0.8 0.987987987988 0.499973680055\n",
        "LP knn"
       ]
      },
      {
       "output_type": "stream",
       "stream": "stdout",
       "text": [
        " 1 0.9 0.987987987988 0.499973680055\n",
        "LS knn"
       ]
      },
      {
       "output_type": "stream",
       "stream": "stdout",
       "text": [
        " 1 0.9 0.987987987988 0.499973680055\n",
        "LP knn"
       ]
      },
      {
       "output_type": "stream",
       "stream": "stdout",
       "text": [
        " 1 1.0 0.987987987988 0.499973680055\n",
        "LS knn"
       ]
      },
      {
       "output_type": "stream",
       "stream": "stdout",
       "text": [
        " 1 1.0 0.499499499499 0.499973680055\n",
        "LP knn"
       ]
      },
      {
       "output_type": "stream",
       "stream": "stdout",
       "text": [
        " 2 0.8 0.673673673674 0.512080854872\n",
        "LS knn"
       ]
      },
      {
       "output_type": "stream",
       "stream": "stdout",
       "text": [
        " 2 0.8 0.673673673674 0.512080854872\n",
        "LP knn"
       ]
      },
      {
       "output_type": "stream",
       "stream": "stdout",
       "text": [
        " 2 0.9 0.673673673674 0.512080854872\n",
        "LS knn"
       ]
      },
      {
       "output_type": "stream",
       "stream": "stdout",
       "text": [
        " 2 0.9 0.673673673674 0.512080854872\n",
        "LP knn"
       ]
      },
      {
       "output_type": "stream",
       "stream": "stdout",
       "text": [
        " 2 1.0 0.673673673674 0.512080854872\n",
        "LS knn"
       ]
      },
      {
       "output_type": "stream",
       "stream": "stdout",
       "text": [
        " 2 1.0 0.513513513514 0.500289519398\n",
        "LP knn"
       ]
      },
      {
       "output_type": "stream",
       "stream": "stdout",
       "text": [
        " 3 0.8 0.56956956957 0.510606937938\n",
        "LS knn"
       ]
      },
      {
       "output_type": "stream",
       "stream": "stdout",
       "text": [
        " 3 0.8 0.56956956957 0.510606937938\n",
        "LP knn"
       ]
      },
      {
       "output_type": "stream",
       "stream": "stdout",
       "text": [
        " 3 0.9 0.56956956957 0.510606937938\n",
        "LS knn"
       ]
      },
      {
       "output_type": "stream",
       "stream": "stdout",
       "text": [
        " 3 0.9 0.56956956957 0.510606937938\n",
        "LP knn"
       ]
      },
      {
       "output_type": "stream",
       "stream": "stdout",
       "text": [
        " 3 1.0 0.56956956957 0.510606937938\n",
        "LS knn"
       ]
      },
      {
       "output_type": "stream",
       "stream": "stdout",
       "text": [
        " 3 1.0 0.55955955956 0.509238300784\n",
        "LP knn"
       ]
      },
      {
       "output_type": "stream",
       "stream": "stdout",
       "text": [
        " 4 0.8 0.537537537538 0.506501026478\n",
        "LS knn"
       ]
      },
      {
       "output_type": "stream",
       "stream": "stdout",
       "text": [
        " 4 0.8 0.537537537538 0.506395746697\n",
        "LP knn"
       ]
      },
      {
       "output_type": "stream",
       "stream": "stdout",
       "text": [
        " 4 0.9 0.537537537538 0.506501026478\n",
        "LS knn"
       ]
      },
      {
       "output_type": "stream",
       "stream": "stdout",
       "text": [
        " 4 0.9 0.537537537538 0.506395746697\n",
        "LP knn"
       ]
      },
      {
       "output_type": "stream",
       "stream": "stdout",
       "text": [
        " 4 1.0 0.536536536537 0.506816865821\n",
        "LS knn"
       ]
      },
      {
       "output_type": "stream",
       "stream": "stdout",
       "text": [
        " 4 1.0 0.536536536537 0.506658946149\n",
        "LP knn"
       ]
      },
      {
       "output_type": "stream",
       "stream": "stdout",
       "text": [
        " 5 0.8 0.521521521522 0.50365847239\n",
        "LS knn"
       ]
      },
      {
       "output_type": "stream",
       "stream": "stdout",
       "text": [
        " 5 0.8 0.521521521522 0.50365847239\n",
        "LP knn"
       ]
      },
      {
       "output_type": "stream",
       "stream": "stdout",
       "text": [
        " 5 0.9 0.521521521522 0.50365847239\n",
        "LS knn"
       ]
      },
      {
       "output_type": "stream",
       "stream": "stdout",
       "text": [
        " 5 0.9 0.521521521522 0.50365847239\n",
        "LP knn"
       ]
      },
      {
       "output_type": "stream",
       "stream": "stdout",
       "text": [
        " 5 1.0 0.521521521522 0.504500710639\n",
        "LS knn"
       ]
      },
      {
       "output_type": "stream",
       "stream": "stdout",
       "text": [
        " 5 1.0 0.521521521522 0.504500710639\n",
        "....................."
       ]
      },
      {
       "output_type": "stream",
       "stream": "stdout",
       "text": [
        "\n"
       ]
      }
     ],
     "prompt_number": 102
    },
    {
     "cell_type": "code",
     "collapsed": false,
     "input": [],
     "language": "python",
     "metadata": {},
     "outputs": []
    },
    {
     "cell_type": "code",
     "collapsed": false,
     "input": [],
     "language": "python",
     "metadata": {},
     "outputs": []
    }
   ],
   "metadata": {}
  }
 ]
}