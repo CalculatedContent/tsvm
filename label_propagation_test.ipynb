{
 "metadata": {
  "name": "",
  "signature": "sha256:9c086242ba78e01bb78140b099ac75c4b4716a7d7b8f5f77b2e301d0618b967d"
 },
 "nbformat": 3,
 "nbformat_minor": 0,
 "worksheets": [
  {
   "cells": [
    {
     "cell_type": "code",
     "collapsed": false,
     "input": [
      "from sklearn.semi_supervised import LabelPropagation\n",
      "from pprint import pprint\n",
      "import scipy\n",
      "import scipy.sparse\n",
      "\n",
      "import joblib\n",
      "\n",
      "import sklearn\n",
      "import sklearn.datasets\n",
      "import sklearn.cross_validation\n",
      "\n",
      "import sys\n",
      "from time import time\n",
      "\n",
      "import numpy as np\n",
      "%pylab inline"
     ],
     "language": "python",
     "metadata": {},
     "outputs": [
      {
       "output_type": "stream",
       "stream": "stdout",
       "text": [
        "Populating the interactive namespace from numpy and matplotlib\n"
       ]
      }
     ],
     "prompt_number": 2
    },
    {
     "cell_type": "code",
     "collapsed": false,
     "input": [
      "circles = sklearn.datasets.make_circles(shuffle=False)\n",
      "circles[0].shape"
     ],
     "language": "python",
     "metadata": {},
     "outputs": [
      {
       "metadata": {},
       "output_type": "pyout",
       "prompt_number": 52,
       "text": [
        "(100, 2)"
       ]
      }
     ],
     "prompt_number": 52
    },
    {
     "cell_type": "code",
     "collapsed": false,
     "input": [
      "x0 = [circles[0][0,0],circles[0][0,1]]\n",
      "x50 = [circles[0][50,0],circles[0][50,1]]\n",
      "scatter(circles[0][1:50,0],circles[0][1:50,1], color='red')\n",
      "scatter(circles[0][51:,0],circles[0][51:,1], color='blue')\n",
      "\n",
      "scatter(x0[0],x0[1] ,color='orange')\n",
      "scatter(x50[0],x50[1] ,color='cyan')\n"
     ],
     "language": "python",
     "metadata": {},
     "outputs": [
      {
       "metadata": {},
       "output_type": "pyout",
       "prompt_number": 129,
       "text": [
        "<matplotlib.collections.PathCollection at 0x10c3dec10>"
       ]
      },
      {
       "metadata": {},
       "output_type": "display_data",
       "png": "[encoded data removed]",
       "text": [
        "<matplotlib.figure.Figure at 0x109be67d0>"
       ]
      }
     ],
     "prompt_number": 129
    },
    {
     "cell_type": "code",
     "collapsed": false,
     "input": [
      "y = -np.ones(100)\n",
      "y[0] = 0\n",
      "y[50] = 1\n",
      "plot(y)"
     ],
     "language": "python",
     "metadata": {},
     "outputs": [
      {
       "metadata": {},
       "output_type": "pyout",
       "prompt_number": 94,
       "text": [
        "[<matplotlib.lines.Line2D at 0x10b07d6d0>]"
       ]
      },
      {
       "metadata": {},
       "output_type": "display_data",
       "png": "[encoded data removed]",
       "text": [
        "<matplotlib.figure.Figure at 0x10a6cf210>"
       ]
      }
     ],
     "prompt_number": 94
    },
    {
     "cell_type": "code",
     "collapsed": false,
     "input": [
      "l = np.hstack((np.zeros(50),np.ones(50)))\n",
      "l.shape\n",
      "print l[0],l[49],l[50],l[99]\n",
      "print y[0],y[49],y[50],y[99]\n",
      "print l.shape"
     ],
     "language": "python",
     "metadata": {},
     "outputs": [
      {
       "output_type": "stream",
       "stream": "stdout",
       "text": [
        "0.0 0.0 1.0 1.0\n",
        "0.0 -1.0 1.0 -1.0\n",
        "(100,)\n"
       ]
      }
     ],
     "prompt_number": 131
    },
    {
     "cell_type": "code",
     "collapsed": false,
     "input": [
      "label_prop_model = LabelPropagation(kernel='knn', n_neighbors=1)\n",
      "ssl = label_prop_model.fit(circles[0],l)\n",
      "print ssl.predict(x0), ssl.predict(x50)\n",
      "print ssl.score(circles[0],l)"
     ],
     "language": "python",
     "metadata": {},
     "outputs": [
      {
       "output_type": "stream",
       "stream": "stdout",
       "text": [
        "[ 0.] [ 1.]\n",
        "1.0\n"
       ]
      }
     ],
     "prompt_number": 166
    },
    {
     "cell_type": "code",
     "collapsed": false,
     "input": [
      "label_prop_model = LabelPropagation(kernel='rbf', gamma=100)\n",
      "ssl = label_prop_model.fit(circles[0],l)\n",
      "print ssl.predict(x0), ssl.predict(x50)\n",
      "print ssl.score(circles[0],l)"
     ],
     "language": "python",
     "metadata": {},
     "outputs": [
      {
       "output_type": "stream",
       "stream": "stdout",
       "text": [
        "[ 0.] [ 1.]\n",
        "1.0\n"
       ]
      }
     ],
     "prompt_number": 164
    },
    {
     "cell_type": "code",
     "collapsed": false,
     "input": [
      "moons = sklearn.datasets.make_moons(shuffle=False)\n",
      "moons[0].shape"
     ],
     "language": "python",
     "metadata": {},
     "outputs": [
      {
       "metadata": {},
       "output_type": "pyout",
       "prompt_number": 167,
       "text": [
        "(100, 2)"
       ]
      }
     ],
     "prompt_number": 167
    },
    {
     "cell_type": "code",
     "collapsed": false,
     "input": [
      "x0 = [moons[0][0,0],moons[0][0,1]]\n",
      "x50 = [moons[0][50,0],moons[0][50,1]]\n",
      "scatter(moons[0][1:50,0],moons[0][1:50,1], color='red')\n",
      "scatter(moons[0][51:,0],moons[0][51:,1], color='blue')\n",
      "\n",
      "scatter(x0[0],x0[1] ,color='orange')\n",
      "scatter(x50[0],x50[1] ,color='cyan')"
     ],
     "language": "python",
     "metadata": {},
     "outputs": [
      {
       "metadata": {},
       "output_type": "pyout",
       "prompt_number": 168,
       "text": [
        "<matplotlib.collections.PathCollection at 0x10c59f7d0>"
       ]
      },
      {
       "metadata": {},
       "output_type": "display_data",
       "png": "[encoded data removed]",
       "text": [
        "<matplotlib.figure.Figure at 0x10c685e90>"
       ]
      }
     ],
     "prompt_number": 168
    },
    {
     "cell_type": "code",
     "collapsed": false,
     "input": [
      "label_prop_model = LabelPropagation(kernel='knn', n_neighbors=1)\n",
      "ssl = label_prop_model.fit(moons[0],l)\n",
      "print ssl.predict(x0), ssl.predict(x50)\n",
      "print ssl.score(moons[0],l)"
     ],
     "language": "python",
     "metadata": {},
     "outputs": [
      {
       "output_type": "stream",
       "stream": "stdout",
       "text": [
        "[ 0.] [ 1.]\n",
        "1.0\n"
       ]
      }
     ],
     "prompt_number": 174
    },
    {
     "cell_type": "code",
     "collapsed": false,
     "input": [
      "label_prop_model = LabelPropagation(kernel='rbf', gamma=100)\n",
      "ssl = label_prop_model.fit(circles[0],l)\n",
      "print ssl.predict(x0), ssl.predict(x50)\n",
      "print ssl.score(circles[0],l)"
     ],
     "language": "python",
     "metadata": {},
     "outputs": [
      {
       "output_type": "stream",
       "stream": "stdout",
       "text": [
        "[ 0.] [ 1.]\n",
        "1.0\n"
       ]
      }
     ],
     "prompt_number": 177
    },
    {
     "cell_type": "code",
     "collapsed": false,
     "input": [],
     "language": "python",
     "metadata": {},
     "outputs": []
    }
   ],
   "metadata": {}
  }
 ]
}