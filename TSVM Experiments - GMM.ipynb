{
 "metadata": {
  "name": "",
  "signature": "sha256:5a8c399d337344febe94758c32c6791b0b2e96df0ea0fd5b4ad59c40436e0a16"
 },
 "nbformat": 3,
 "nbformat_minor": 0,
 "worksheets": [
  {
   "cells": [
    {
     "cell_type": "code",
     "collapsed": false,
     "input": [
      "import numpy as np\n",
      "import pandas as pd\n",
      "import scipy\n",
      "\n",
      "import sklearn\n",
      "import sklearn.datasets\n",
      "\n",
      "%pylab inline"
     ],
     "language": "python",
     "metadata": {},
     "outputs": [
      {
       "output_type": "stream",
       "stream": "stdout",
       "text": [
        "Populating the interactive namespace from numpy and matplotlib\n"
       ]
      }
     ],
     "prompt_number": 1
    },
    {
     "cell_type": "code",
     "collapsed": false,
     "input": [
      "def sample_from_gaussian(mean, covariance, n_samples):\n",
      "    return scipy.random.multivariate_normal(mean=mean, cov=covariance, size=(n_samples,))\n",
      "    \n",
      "def sample_unit_variance_gaussian(mean, n_samples):\n",
      "    mean = np.array(mean)\n",
      "    return sample_from_gaussian(mean=mean, n_samples=n_samples, covariance=np.identity(mean.shape[0]))"
     ],
     "language": "python",
     "metadata": {},
     "outputs": [],
     "prompt_number": 26
    },
    {
     "cell_type": "code",
     "collapsed": false,
     "input": [
      "N_labeled = 1000\n",
      "labeled_data = []\n",
      "labeled_labels = []\n",
      "\n",
      "N_unlabeled = 10000\n",
      "unlabeled_data = []\n",
      "unlabeled_labels = []\n",
      "\n",
      "unlabeled_data.extend(sample_unit_variance_gaussian((0,1), N_unlabeled))\n",
      "unlabeled_labels.extend([1]*N_unlabeled)\n",
      "unlabeled_data.extend(sample_unit_variance_gaussian((0,-1), N_unlabeled))\n",
      "unlabeled_labels.extend([-1]*N_unlabeled)\n",
      "\n",
      "labeled_data.extend(sample_unit_variance_gaussian((1,0), N_labeled))\n",
      "labeled_labels.extend([1]*N_labeled)\n",
      "labeled_data.extend(sample_unit_variance_gaussian((-1,0), N_labeled))\n",
      "labeled_labels.extend([-1]*N_labeled)\n",
      "\n",
      "unlabeled_data = np.array(unlabeled_data)\n",
      "labeled_data = np.array(labeled_data)"
     ],
     "language": "python",
     "metadata": {},
     "outputs": [],
     "prompt_number": 42
    },
    {
     "cell_type": "code",
     "collapsed": false,
     "input": [
      "sklearn.datasets.dump_svmlight_file(unlabeled_data, unlabeled_labels, 'gmm_degenerate.svm.T', zero_based=False)\n",
      "sklearn.datasets.dump_svmlight_file(labeled_data, labeled_labels, 'gmm_degenerate.svm', zero_based=False)"
     ],
     "language": "python",
     "metadata": {},
     "outputs": [],
     "prompt_number": 46
    },
    {
     "cell_type": "code",
     "collapsed": false,
     "input": [
      "!head unlabeled.svm"
     ],
     "language": "python",
     "metadata": {},
     "outputs": [
      {
       "output_type": "stream",
       "stream": "stdout",
       "text": [
        "1 1:1.19032410176504 2:0.7430298605767618\r\n",
        "1 1:0.8809253489644222 2:0.9677902475812613\r\n",
        "1 1:0.4436156778373162 2:1.186627586044242\r\n",
        "1 1:0.2357191542331788 2:1.007135416091833\r\n",
        "1 1:1.60895940251104 2:1.979002241256609\r\n",
        "1 1:0.715111992009241 2:0.3850410276109529\r\n",
        "1 1:1.654253846058393 2:2.543654252617625\r\n",
        "1 1:-1.462941380616665 2:2.181561471464691\r\n",
        "1 1:-1.110119475356738 2:0.4744902746717916\r\n",
        "1 1:0.5365451877407698 2:0.2629047627275437\r\n"
       ]
      }
     ],
     "prompt_number": 47
    },
    {
     "cell_type": "code",
     "collapsed": false,
     "input": [
      "!head labeled.svm"
     ],
     "language": "python",
     "metadata": {},
     "outputs": [
      {
       "output_type": "stream",
       "stream": "stdout",
       "text": [
        "1 1:1.518526800166532 2:0.1844008703573493\r\n",
        "1 1:1.165835521238387 2:1.181081744886474\r\n",
        "1 1:0.0009057238465274287 2:0.65830922240888\r\n",
        "1 1:-0.09569833886403911 2:1.04912089863284\r\n",
        "1 1:0.429857650347897 2:-1.271462851731001\r\n",
        "1 1:0.5793614361408193 2:-0.6583150172448757\r\n",
        "1 1:2.446420412313968 2:-0.5486584159455853\r\n",
        "1 1:0.1524335916392352 2:-0.5541050219950724\r\n",
        "1 1:1.413178656859335 2:-0.7387405593806043\r\n",
        "1 1:-0.6494581700326123 2:0.9935853851714151\r\n"
       ]
      }
     ],
     "prompt_number": 48
    },
    {
     "cell_type": "code",
     "collapsed": false,
     "input": [],
     "language": "python",
     "metadata": {},
     "outputs": []
    }
   ],
   "metadata": {}
  }
 ]
}