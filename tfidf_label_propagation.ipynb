{
 "metadata": {
  "name": "",
  "signature": "sha256:2d826e4d81dad1434c7996bc1a7a79f63789c6e11525b275f4c4659d0ca2ca0a"
 },
 "nbformat": 3,
 "nbformat_minor": 0,
 "worksheets": [
  {
   "cells": [
    {
     "cell_type": "code",
     "collapsed": false,
     "input": [
      "import sys\n",
      "from time import time\n",
      "from pprint import pprint\n",
      "\n",
      "import numpy as np\n",
      "import scipy\n",
      "import scipy.sparse\n",
      "import joblib\n",
      "\n",
      "import sklearn\n",
      "import sklearn.svm\n",
      "import sklearn.datasets\n",
      "import sklearn.cross_validation\n",
      "\n",
      "from sklearn.datasets import fetch_20newsgroups\n",
      "from sklearn.semi_supervised import LabelPropagation\n",
      "from sklearn.semi_supervised import LabelSpreading\n",
      "from sklearn.datasets import fetch_20newsgroups\n",
      "from sklearn.feature_extraction.text import TfidfVectorizer\n",
      "\n",
      "import warnings\n",
      "warnings.filterwarnings('ignore')\n",
      "\n",
      "%pylab inline"
     ],
     "language": "python",
     "metadata": {},
     "outputs": [
      {
       "output_type": "stream",
       "stream": "stdout",
       "text": [
        "Populating the interactive namespace from numpy and matplotlib\n"
       ]
      },
      {
       "output_type": "stream",
       "stream": "stderr",
       "text": [
        "WARNING: pylab import has clobbered these variables: ['gamma']\n",
        "`%matplotlib` prevents importing * from pylab and numpy\n"
       ]
      }
     ],
     "prompt_number": 70
    },
    {
     "cell_type": "code",
     "collapsed": false,
     "input": [
      "dataset = fetch_20newsgroups(data_home=\".\")"
     ],
     "language": "python",
     "metadata": {},
     "outputs": [
      {
       "output_type": "stream",
       "stream": "stderr",
       "text": [
        "WARNING:sklearn.datasets.twenty_newsgroups:Downloading dataset from http://people.csail.mit.edu/jrennie/20Newsgroups/20news-bydate.tar.gz (14 MB)\n"
       ]
      }
     ],
     "prompt_number": 21
    },
    {
     "cell_type": "code",
     "collapsed": false,
     "input": [
      "group_names = dataset.target_names\n",
      "group_counts = [(dataset.target==group_index).sum() for group_index in range(len(group_names))]\n",
      "half_docs_group_index = np.where((np.cumsum(group_counts) > 5600))[0][0]\n",
      "\n",
      "y = (dataset.target > half_docs_group_index).astype(int)"
     ],
     "language": "python",
     "metadata": {},
     "outputs": [],
     "prompt_number": 62
    },
    {
     "cell_type": "code",
     "collapsed": false,
     "input": [
      "vectorizer = TfidfVectorizer(max_df=0.5, min_df=4)\n",
      "X = vectorizer.fit_transform(dataset.data)"
     ],
     "language": "python",
     "metadata": {},
     "outputs": [],
     "prompt_number": 63
    },
    {
     "cell_type": "code",
     "collapsed": false,
     "input": [
      "print X.shape"
     ],
     "language": "python",
     "metadata": {},
     "outputs": [
      {
       "output_type": "stream",
       "stream": "stdout",
       "text": [
        "(11314, 30792)\n"
       ]
      }
     ],
     "prompt_number": 81
    },
    {
     "cell_type": "code",
     "collapsed": false,
     "input": [
      "from collections import Counter\n",
      "Counter(y)"
     ],
     "language": "python",
     "metadata": {},
     "outputs": [
      {
       "metadata": {},
       "output_type": "pyout",
       "prompt_number": 82,
       "text": [
        "Counter({0: 5790, 1: 5524})"
       ]
      }
     ],
     "prompt_number": 82
    },
    {
     "cell_type": "code",
     "collapsed": false,
     "input": [
      "def test_ssl_model(labeled_indices, unlabeled_indices, model):\n",
      "    \n",
      "    L = X[labeled_indices]\n",
      "    U = X[unlabeled_indices]\n",
      "\n",
      "    y_l = y[labeled_indices]\n",
      "    y_u = y[unlabeled_indices]\n",
      "    \n",
      "    l_ssl = y.copy()\n",
      "    l_ssl[unlabeled_indices]=-1\n",
      "    \n",
      "    model.fit(X,l_ssl)\n",
      "    sl = model.score(L,y_l)\n",
      "    su = model.score(U,y_u)\n",
      "    \n",
      "    return sl, su\n",
      "\n",
      "def test_baseline_model(labeled_indices, unlabeled_indices, model):\n",
      "    \n",
      "    L = X[labeled_indices]\n",
      "    U = X[unlabeled_indices]\n",
      "\n",
      "    y_l = y[labeled_indices]\n",
      "    y_u = y[unlabeled_indices]\n",
      "    \n",
      "    model.fit(L, y_l)\n",
      "    sl = model.score(L,y_l)\n",
      "    su = model.score(U,y_u)\n",
      "    \n",
      "    return sl, su\n",
      "           \n",
      "    "
     ],
     "language": "python",
     "metadata": {},
     "outputs": [],
     "prompt_number": 74
    },
    {
     "cell_type": "code",
     "collapsed": false,
     "input": [
      "test_size = 0.97\n",
      "kernel = \"rbf\"\n",
      "gamma = 100\n",
      "alpha = 0.3\n",
      "\n",
      "lp_model = LabelPropagation(kernel=kernel, alpha=alpha, gamma=gamma)\n",
      "svm_model = sklearn.svm.LinearSVC()\n",
      "ridge_model = sklearn.linear_model.RidgeClassifier()\n",
      "\n",
      "\n",
      "splits = sklearn.cross_validation.StratifiedShuffleSplit(y, n_iter=1, test_size=test_size)\n",
      "labeled_indices, unlabeled_indices = splits.__iter__().next()\n",
      "\n",
      "\n",
      "print test_baseline_model(labeled_indices, unlabeled_indices, ridge_model)\n",
      "print test_baseline_model(labeled_indices, unlabeled_indices, svm_model)\n",
      "print test_ssl_model(labeled_indices, unlabeled_indices, lp_model)"
     ],
     "language": "python",
     "metadata": {},
     "outputs": [
      {
       "output_type": "stream",
       "stream": "stdout",
       "text": [
        "(1.0, 0.81986332574031895)\n",
        "(1.0, 0.82405466970387242)\n",
        "(1.0, 0.75681093394077448)"
       ]
      },
      {
       "output_type": "stream",
       "stream": "stdout",
       "text": [
        "\n"
       ]
      }
     ],
     "prompt_number": 79
    }
   ],
   "metadata": {}
  }
 ]
}