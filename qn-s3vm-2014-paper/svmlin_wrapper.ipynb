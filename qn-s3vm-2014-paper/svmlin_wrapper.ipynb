{
 "metadata": {
  "name": "",
  "signature": "sha256:a13175022ba114ada8743140e440f34dc99e03638d479ec266fdf92370dbf6ac"
 },
 "nbformat": 3,
 "nbformat_minor": 0,
 "worksheets": [
  {
   "cells": [
    {
     "cell_type": "markdown",
     "metadata": {},
     "source": [
      "# Python-CGLS:"
     ]
    },
    {
     "cell_type": "code",
     "collapsed": false,
     "input": [
      "import numpy as np\n",
      "from sklearn.linear_model import Ridge"
     ],
     "language": "python",
     "metadata": {},
     "outputs": [],
     "prompt_number": 17
    },
    {
     "cell_type": "code",
     "collapsed": false,
     "input": [
      "def line_search(weights, weights_bar, lmbda, outputs, outputs_bar, y, c, d, num_of_examples):\n",
      "\n",
      "    diff = y * (outputs_bar - outputs)\n",
      "    #p = np.where(diff != 0).shape[0] # number of breakpoints(?)\n",
      "    neg_idxs = np.where(y * outputs < 1 & diff < 0)[0]\n",
      "    pos_idxs = np.where(y * outputs < 1 & diff > 0)[0]\n",
      "    \n",
      "    # compute L, R from  sorted_idxs\n",
      "    s = np.zeros_like(y)\n",
      "    s[neg_idxs] = -1\n",
      "    s[pos_idxs] = 1\n",
      "    \n",
      "    omegaL = np.sum(weights * (weights_bar - weights) * lmbda)\n",
      "    omegaL = np.sum(weights_bar * (weights_bar - weights) * lmbda)\n",
      "    \n",
      "    all_idxs = np.where(y * outputs < 1)\n",
      "    L = np.sum((o[all_idxs] - y[all_idxs]) * \n",
      "               (C[all_idxs]*(outputs_bar[all_idxs] - outputs[all_idxs]))) \n",
      "    L += omegaL\n",
      "    R = np.sum((o_bar[all_idxs] - y[all_idxs]) * \n",
      "               (C[all_idxs]*(outputs_bar[all_idxs] - outputs[all_idxs]))) \n",
      "    R += omegaR\n",
      "    \n",
      "    delta_prime = 0.0\n",
      "    \n",
      "    np_idxs = np.union1d(neg_idxs, pos_idxs) # negative AND positives indices\n",
      "    deltas = (1 - y[np_idxs] * outputs[np_idxs])/diff[np_idxs]\n",
      "    sorted_delta_ids = np.argsort(deltas)\n",
      "\n",
      "    for sid in sorted_delta_ids:\n",
      "        ii = np_idxs[sid]  # instance id\n",
      "        \n",
      "        delta_prime = L + deltas[sid] * (R - L)\n",
      "        if delta_prime >= 0:\n",
      "            break\n",
      "        d = s[ii] * c[ii] * (outputs_bar[ii] - outputs[ii])\n",
      "        L += d * (outputs[ii] - y[ii])\n",
      "        R += d * (outputs_bar[ii] - y[ii])\n",
      "\n",
      "    return -L/(R - L)"
     ],
     "language": "python",
     "metadata": {},
     "outputs": [],
     "prompt_number": 18
    },
    {
     "cell_type": "code",
     "collapsed": false,
     "input": [
      "def cgls(x, y, c):\n",
      "    alpha = 1.0\n",
      "    x_p = np.diag(1.0/np.sqrt(c))*x\n",
      "    r = Ridge(alpha=alpha, fit_intercept=False, solver='sparse_cg')\n",
      "    r.fit(x_p, y)\n",
      "    return r"
     ],
     "language": "python",
     "metadata": {},
     "outputs": [],
     "prompt_number": 54
    },
    {
     "cell_type": "markdown",
     "metadata": {},
     "source": [
      "Run CGLS:"
     ]
    },
    {
     "cell_type": "code",
     "collapsed": false,
     "input": [
      "from sklearn.datasets import load_svmlight_file"
     ],
     "language": "python",
     "metadata": {},
     "outputs": [],
     "prompt_number": 20
    },
    {
     "cell_type": "code",
     "collapsed": false,
     "input": [
      "%time X, y = sklearn.datasets.load_svmlight_file('qn-s3vm-2014-paper/svmlight.testL.90')"
     ],
     "language": "python",
     "metadata": {},
     "outputs": [
      {
       "output_type": "stream",
       "stream": "stdout",
       "text": [
        "CPU times: user 16.3 ms, sys: 717 \u00b5s, total: 17.1 ms\n",
        "Wall time: 16.5 ms\n"
       ]
      }
     ],
     "prompt_number": 21
    },
    {
     "cell_type": "code",
     "collapsed": false,
     "input": [
      "c = np.ones(X.shape[0])\n",
      "res = cgls(X, y, c)"
     ],
     "language": "python",
     "metadata": {},
     "outputs": [
      {
       "output_type": "stream",
       "stream": "stdout",
       "text": [
        "(90, 20883) (90,)\n"
       ]
      }
     ],
     "prompt_number": 53
    },
    {
     "cell_type": "code",
     "collapsed": false,
     "input": [
      "res.coef_.shape"
     ],
     "language": "python",
     "metadata": {},
     "outputs": [
      {
       "metadata": {},
       "output_type": "pyout",
       "prompt_number": 55,
       "text": [
        "(20883,)"
       ]
      }
     ],
     "prompt_number": 55
    },
    {
     "cell_type": "code",
     "collapsed": false,
     "input": [
      "y_prediction = res.predict(X)"
     ],
     "language": "python",
     "metadata": {},
     "outputs": [],
     "prompt_number": 62
    },
    {
     "cell_type": "code",
     "collapsed": false,
     "input": [
      "y_predicted_labels = np.array(map(lambda k: -1.0 if k < 0 else 1.0, y_prediction))"
     ],
     "language": "python",
     "metadata": {},
     "outputs": [],
     "prompt_number": 66
    },
    {
     "cell_type": "code",
     "collapsed": false,
     "input": [
      "np.mean(np.abs(y_predicted_labels - y))"
     ],
     "language": "python",
     "metadata": {},
     "outputs": [
      {
       "metadata": {},
       "output_type": "pyout",
       "prompt_number": 67,
       "text": [
        "0.0"
       ]
      }
     ],
     "prompt_number": 67
    },
    {
     "cell_type": "code",
     "collapsed": false,
     "input": [
      "import pandas as pd"
     ],
     "language": "python",
     "metadata": {},
     "outputs": [
      {
       "output_type": "stream",
       "stream": "stderr",
       "text": [
        "/usr/local/Cellar/python/2.7.6/Frameworks/Python.framework/Versions/2.7/lib/python2.7/site-packages/pytz/__init__.py:29: UserWarning: Module argparse was already imported from /usr/local/Cellar/python/2.7.6/Frameworks/Python.framework/Versions/2.7/lib/python2.7/argparse.pyc, but /usr/local/lib/python2.7/site-packages is being added to sys.path\n",
        "  from pkg_resources import resource_stream\n"
       ]
      }
     ],
     "prompt_number": 81
    },
    {
     "cell_type": "code",
     "collapsed": false,
     "input": [
      "df = pd.read_csv('qn-s3vm-2014-paper/svmlin.testL.examples.90.outputs', header=None, names=['blah'])\n",
      "df2 = pd.Series(y_predicted_labels)"
     ],
     "language": "python",
     "metadata": {},
     "outputs": [],
     "prompt_number": 114
    },
    {
     "cell_type": "code",
     "collapsed": false,
     "input": [
      "df = df.blah.map(lambda k: -1.0 if k < 0 else 1.0)"
     ],
     "language": "python",
     "metadata": {},
     "outputs": [],
     "prompt_number": 115
    },
    {
     "cell_type": "code",
     "collapsed": false,
     "input": [
      "df.shape, df2.shape"
     ],
     "language": "python",
     "metadata": {},
     "outputs": [
      {
       "metadata": {},
       "output_type": "pyout",
       "prompt_number": 116,
       "text": [
        "((90,), (90,))"
       ]
      }
     ],
     "prompt_number": 116
    },
    {
     "cell_type": "code",
     "collapsed": false,
     "input": [
      "(df - df2).mean()"
     ],
     "language": "python",
     "metadata": {},
     "outputs": [
      {
       "metadata": {},
       "output_type": "pyout",
       "prompt_number": 118,
       "text": [
        "0.0"
       ]
      }
     ],
     "prompt_number": 118
    },
    {
     "cell_type": "code",
     "collapsed": false,
     "input": [
      "import matplotlib.pyplot as plt"
     ],
     "language": "python",
     "metadata": {},
     "outputs": [],
     "prompt_number": 73
    },
    {
     "cell_type": "code",
     "collapsed": false,
     "input": [
      "plt.hist(y_prediction)"
     ],
     "language": "python",
     "metadata": {},
     "outputs": [
      {
       "metadata": {},
       "output_type": "pyout",
       "prompt_number": 74,
       "text": [
        "(array([ 26.,  35.,   1.,   0.,   0.,   0.,   0.,   0.,   4.,  24.]),\n",
        " array([-0.74527391, -0.60895801, -0.47264212, -0.33632622, -0.20001032,\n",
        "        -0.06369443,  0.07262147,  0.20893737,  0.34525326,  0.48156916,\n",
        "         0.61788506]),\n",
        " <a list of 10 Patch objects>)"
       ]
      },
      {
       "metadata": {},
       "output_type": "display_data",
       "png": "[encoded data removed]",
       "text": [
        "<matplotlib.figure.Figure at 0x10fe74f10>"
       ]
      }
     ],
     "prompt_number": 74
    }
   ],
   "metadata": {}
  }
 ]
}