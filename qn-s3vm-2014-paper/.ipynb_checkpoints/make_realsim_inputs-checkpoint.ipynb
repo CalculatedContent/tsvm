{
 "metadata": {
  "name": "",
  "signature": "sha256:0458a1206150c8535f4d6d0b6a40c93a8ed13e39809ca9e22063b5da83357ed9"
 },
 "nbformat": 3,
 "nbformat_minor": 0,
 "worksheets": [
  {
   "cells": [
    {
     "cell_type": "code",
     "collapsed": false,
     "input": [
      "import sys\n",
      "from time import time\n",
      "from pprint import pprint\n",
      "\n",
      "import numpy as np\n",
      "import scipy\n",
      "import scipy.sparse as sp\n",
      "import joblib\n",
      "\n",
      "import io\n",
      "import os.path\n",
      "\n",
      "import sklearn\n",
      "import sklearn.svm\n",
      "import sklearn.datasets\n",
      "import sklearn.metrics\n",
      "import sklearn.cross_validation\n",
      "\n",
      "\n",
      "from sklearn.externals.six import u, b\n",
      "\n",
      "import warnings\n",
      "warnings.filterwarnings('ignore')\n",
      "\n",
      "%pylab inline"
     ],
     "language": "python",
     "metadata": {},
     "outputs": [
      {
       "output_type": "stream",
       "stream": "stdout",
       "text": [
        "Populating the interactive namespace from numpy and matplotlib\n"
       ]
      }
     ],
     "prompt_number": 1
    },
    {
     "cell_type": "code",
     "collapsed": false,
     "input": [
      "X, y = sklearn.datasets.load_svmlight_file('real-sim')"
     ],
     "language": "python",
     "metadata": {},
     "outputs": [],
     "prompt_number": 2
    },
    {
     "cell_type": "code",
     "collapsed": false,
     "input": [
      "X.shape"
     ],
     "language": "python",
     "metadata": {},
     "outputs": [
      {
       "metadata": {},
       "output_type": "pyout",
       "prompt_number": 3,
       "text": [
        "(72309, 20958)"
       ]
      }
     ],
     "prompt_number": 3
    },
    {
     "cell_type": "code",
     "collapsed": false,
     "input": [
      "from collections import Counter\n",
      "Counter(y)"
     ],
     "language": "python",
     "metadata": {},
     "outputs": [
      {
       "metadata": {},
       "output_type": "pyout",
       "prompt_number": 4,
       "text": [
        "Counter({-1.0: 50071, 1.0: 22238})"
       ]
      }
     ],
     "prompt_number": 4
    },
    {
     "cell_type": "code",
     "collapsed": false,
     "input": [
      "splits = sklearn.cross_validation.StratifiedShuffleSplit(y, n_iter=1, test_size=0.50)\n",
      "train_indices, test_indices = splits.__iter__().next()"
     ],
     "language": "python",
     "metadata": {},
     "outputs": [],
     "prompt_number": 5
    },
    {
     "cell_type": "code",
     "collapsed": false,
     "input": [
      "instance_ids = np.arange(y.size)\n",
      "X_train = X[train_indices]\n",
      "train_ids = instance_ids[train_indices]\n",
      "\n",
      "X_test = X[test_indices]\n",
      "test_ids = instance_ids[test_indices]\n",
      "\n",
      "train_labels = y[train_indices]\n",
      "test_labels = y[test_indices]"
     ],
     "language": "python",
     "metadata": {},
     "outputs": [],
     "prompt_number": 6
    },
    {
     "cell_type": "code",
     "collapsed": false,
     "input": [
      "svm = sklearn.svm.LinearSVC(penalty='l2', C=10, dual=False)\n",
      "svm.fit(X_train, train_labels)\n"
     ],
     "language": "python",
     "metadata": {},
     "outputs": [
      {
       "metadata": {},
       "output_type": "pyout",
       "prompt_number": 7,
       "text": [
        "LinearSVC(C=10, class_weight=None, dual=False, fit_intercept=True,\n",
        "     intercept_scaling=1, loss='l2', multi_class='ovr', penalty='l2',\n",
        "     random_state=None, tol=0.0001, verbose=0)"
       ]
      }
     ],
     "prompt_number": 7
    },
    {
     "cell_type": "code",
     "collapsed": false,
     "input": [
      "accuracy = sklearn.metrics.accuracy_score(test_labels, svm.predict(X_test))\n",
      "print 100.0*(1.0-accuracy)\n",
      "#ncv = 10\n",
      "#print sklearn.cross_validation.cross_val_score(svm, X_train, train_labels, cv=10).sum()/ncv\n",
      "#print sklearn.cross_validation.cross_val_score(svm, X_test, test_labels, cv=10).sum()/ncv\n"
     ],
     "language": "python",
     "metadata": {},
     "outputs": [
      {
       "output_type": "stream",
       "stream": "stdout",
       "text": [
        "3.22500345734\n"
       ]
      }
     ],
     "prompt_number": 10
    },
    {
     "cell_type": "code",
     "collapsed": false,
     "input": [
      "print X_train.shape\n",
      "print X_test.shape"
     ],
     "language": "python",
     "metadata": {},
     "outputs": [
      {
       "output_type": "stream",
       "stream": "stdout",
       "text": [
        "(36154, 20958)\n",
        "(36155, 20958)\n"
       ]
      }
     ],
     "prompt_number": 19
    },
    {
     "cell_type": "code",
     "collapsed": false,
     "input": [
      "def print_universvm_infiles(L, y_l, U, y_u, HO, y_HO, U_size):\n",
      "    A = scipy.sparse.vstack((L,U))\n",
      "    unk_l = y_u*0 - 3\n",
      "    a_l = np.hstack((y_l, unk_l))\n",
      "    \n",
      "    name = U_size\n",
      "\n",
      "        \n",
      "    print A.shape, a_l.shape , name\n",
      "    training_file = 'universvm.train.%.4f'%name\n",
      "    sklearn.datasets.dump_svmlight_file(A,a_l,training_file,zero_based=False)\n",
      "    \n",
      "    testL_file = 'universvm.testL.%.4f'%name\n",
      "    sklearn.datasets.dump_svmlight_file(L,y_l,testL_file,zero_based=False)\n",
      "    \n",
      "    testU_file = 'universvm.testU.%.4f'%name\n",
      "    sklearn.datasets.dump_svmlight_file(U,y_u,testU_file,zero_based=False)\n",
      "    \n",
      "    testHO_file = 'universvm.testHO.%.4f'%name\n",
      "    sklearn.datasets.dump_svmlight_file(HO,y_HO,testHO_file,zero_based=False)"
     ],
     "language": "python",
     "metadata": {},
     "outputs": [],
     "prompt_number": 24
    },
    {
     "cell_type": "code",
     "collapsed": false,
     "input": [
      "U_size = 0.0025\n",
      "splits = sklearn.cross_validation.StratifiedShuffleSplit(train_labels, n_iter=1, test_size=1-U_size)\n",
      "labeled_indices, unlabeled_indices = splits.__iter__().next()\n",
      "\n",
      "L = X_train[labeled_indices]\n",
      "L_ids = instance_ids[labeled_indices]\n",
      "\n",
      "U = X_train[unlabeled_indices]\n",
      "U_ids = instance_ids[unlabeled_indices]\n",
      "\n",
      "y_l = train_labels[labeled_indices]\n",
      "y_u = train_labels[unlabeled_indices]\n",
      "\n",
      "print X_train.shape, L.shape, U.shape, X_test.shape\n",
      "print_universvm_infiles(L, y_l, U, y_u, X_test, test_labels, U_size)\n",
      "\n",
      "svm_small = sklearn.svm.LinearSVC(penalty='l2', C=10, dual=False)\n",
      "svm_small.fit(L, y_l)\n",
      "accuracy = sklearn.metrics.accuracy_score(test_labels, svm_small.predict(X_test))\n",
      "print (1.0-accuracy)*100.0\n"
     ],
     "language": "python",
     "metadata": {},
     "outputs": [
      {
       "output_type": "stream",
       "stream": "stdout",
       "text": [
        "(36154, 20958) (90, 20958) (36064, 20958) (36155, 20958)\n",
        "(36154, 20958) (36154,) 0.0025\n",
        "25.5123772646"
       ]
      },
      {
       "output_type": "stream",
       "stream": "stdout",
       "text": [
        "\n"
       ]
      }
     ],
     "prompt_number": 25
    },
    {
     "cell_type": "code",
     "collapsed": false,
     "input": [],
     "language": "python",
     "metadata": {},
     "outputs": [],
     "prompt_number": 11
    },
    {
     "cell_type": "code",
     "collapsed": false,
     "input": [
      "#TODO\n",
      "# repeat with svmlight, svmlin, and qn_s3vm\n",
      "# try again with NMF features / clusters\n",
      "#   can we cluster the docs effectively\n",
      "#   and use NMf / auto encoder features?\n",
      "# can we repeat with other data sets?\n",
      "#\n",
      "# can we find MMMF / Max Margin Clustering method?\n"
     ],
     "language": "python",
     "metadata": {},
     "outputs": [],
     "prompt_number": 11
    },
    {
     "cell_type": "code",
     "collapsed": false,
     "input": [],
     "language": "python",
     "metadata": {},
     "outputs": []
    }
   ],
   "metadata": {}
  }
 ]
}